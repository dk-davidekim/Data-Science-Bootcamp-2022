{
 "cells": [
  {
   "cell_type": "code",
   "execution_count": 1,
   "metadata": {},
   "outputs": [],
   "source": [
    "import pandas as pd\n",
    "import numpy as np\n",
    "import seaborn as sns\n",
    "import matplotlib.pyplot as plt\n",
    "import koreanize_matplotlib\n",
    "from glob import glob\n",
    "\n",
    "%config InlineBackend.figure_format = 'retina'"
   ]
  },
  {
   "cell_type": "code",
   "execution_count": 2,
   "metadata": {},
   "outputs": [
    {
     "data": {
      "text/html": [
       "<div>\n",
       "<style scoped>\n",
       "    .dataframe tbody tr th:only-of-type {\n",
       "        vertical-align: middle;\n",
       "    }\n",
       "\n",
       "    .dataframe tbody tr th {\n",
       "        vertical-align: top;\n",
       "    }\n",
       "\n",
       "    .dataframe thead th {\n",
       "        text-align: right;\n",
       "    }\n",
       "</style>\n",
       "<table border=\"1\" class=\"dataframe\">\n",
       "  <thead>\n",
       "    <tr style=\"text-align: right;\">\n",
       "      <th></th>\n",
       "      <th>PM10</th>\n",
       "      <th>PM25</th>\n",
       "      <th>지역</th>\n",
       "      <th>측정일시</th>\n",
       "    </tr>\n",
       "  </thead>\n",
       "  <tbody>\n",
       "    <tr>\n",
       "      <th>0</th>\n",
       "      <td>33.0</td>\n",
       "      <td>11.0</td>\n",
       "      <td>강원 강릉시</td>\n",
       "      <td>2015010101</td>\n",
       "    </tr>\n",
       "    <tr>\n",
       "      <th>1</th>\n",
       "      <td>35.0</td>\n",
       "      <td>8.0</td>\n",
       "      <td>강원 강릉시</td>\n",
       "      <td>2015010102</td>\n",
       "    </tr>\n",
       "    <tr>\n",
       "      <th>2</th>\n",
       "      <td>37.0</td>\n",
       "      <td>9.0</td>\n",
       "      <td>강원 강릉시</td>\n",
       "      <td>2015010103</td>\n",
       "    </tr>\n",
       "    <tr>\n",
       "      <th>3</th>\n",
       "      <td>42.0</td>\n",
       "      <td>11.0</td>\n",
       "      <td>강원 강릉시</td>\n",
       "      <td>2015010104</td>\n",
       "    </tr>\n",
       "  </tbody>\n",
       "</table>\n",
       "</div>"
      ],
      "text/plain": [
       "   PM10  PM25      지역        측정일시\n",
       "0  33.0  11.0  강원 강릉시  2015010101\n",
       "1  35.0   8.0  강원 강릉시  2015010102\n",
       "2  37.0   9.0  강원 강릉시  2015010103\n",
       "3  42.0  11.0  강원 강릉시  2015010104"
      ]
     },
     "execution_count": 2,
     "metadata": {},
     "output_type": "execute_result"
    }
   ],
   "source": [
    "file_name = glob(\"data/misemise_downcasted.csv\")\n",
    "file_name\n",
    "\n",
    "df = pd.read_csv(file_name[0], encoding='cp949')\n",
    "df.head(4)"
   ]
  },
  {
   "cell_type": "code",
   "execution_count": 3,
   "metadata": {},
   "outputs": [
    {
     "name": "stdout",
     "output_type": "stream",
     "text": [
      "<class 'pandas.core.frame.DataFrame'>\n",
      "RangeIndex: 27910059 entries, 0 to 27910058\n",
      "Data columns (total 4 columns):\n",
      " #   Column  Dtype  \n",
      "---  ------  -----  \n",
      " 0   PM10    float64\n",
      " 1   PM25    float64\n",
      " 2   지역      object \n",
      " 3   측정일시    int64  \n",
      "dtypes: float64(2), int64(1), object(1)\n",
      "memory usage: 851.7+ MB\n"
     ]
    }
   ],
   "source": [
    "df.info()"
   ]
  },
  {
   "cell_type": "code",
   "execution_count": 4,
   "metadata": {},
   "outputs": [],
   "source": [
    "# for col in df.columns:\n",
    "#     print(df[col].dtypes.name)\n",
    "#     dtype_name = df[col].dtypes.name\n",
    "#     if dtype_name.startswith(\"int\"):\n",
    "#         if df[col].min() >= 0:\n",
    "#             df[col] = pd.to_numeric(df[col], downcast=\"unsigned\")\n",
    "#         else:\n",
    "#             df[col] = pd.to_numeric(df[col], downcast=\"integer\")\n",
    "#     elif dtype_name.startswith(\"float\"):\n",
    "#         df[col] = pd.to_numeric(df[col], downcast=\"float\")\n",
    "#     elif dtype_name == \"bool\":\n",
    "#         df[col] = df[col].astype(\"int8\")\n",
    "#     elif dtype_name == \"object\":\n",
    "#         df[col] = df[col].astype(\"category\")"
   ]
  },
  {
   "cell_type": "code",
   "execution_count": 5,
   "metadata": {},
   "outputs": [
    {
     "name": "stdout",
     "output_type": "stream",
     "text": [
      "<class 'pandas.core.frame.DataFrame'>\n",
      "RangeIndex: 27910059 entries, 0 to 27910058\n",
      "Data columns (total 4 columns):\n",
      " #   Column  Dtype  \n",
      "---  ------  -----  \n",
      " 0   PM10    float64\n",
      " 1   PM25    float64\n",
      " 2   지역      object \n",
      " 3   측정일시    int64  \n",
      "dtypes: float64(2), int64(1), object(1)\n",
      "memory usage: 851.7+ MB\n"
     ]
    }
   ],
   "source": [
    "df.info()"
   ]
  },
  {
   "cell_type": "code",
   "execution_count": 6,
   "metadata": {},
   "outputs": [],
   "source": [
    "# df.to_csv('misemise.csv',index=False, encoding=\"cp949\")"
   ]
  },
  {
   "cell_type": "code",
   "execution_count": 7,
   "metadata": {},
   "outputs": [
    {
     "data": {
      "text/html": [
       "<div>\n",
       "<style scoped>\n",
       "    .dataframe tbody tr th:only-of-type {\n",
       "        vertical-align: middle;\n",
       "    }\n",
       "\n",
       "    .dataframe tbody tr th {\n",
       "        vertical-align: top;\n",
       "    }\n",
       "\n",
       "    .dataframe thead th {\n",
       "        text-align: right;\n",
       "    }\n",
       "</style>\n",
       "<table border=\"1\" class=\"dataframe\">\n",
       "  <thead>\n",
       "    <tr style=\"text-align: right;\">\n",
       "      <th></th>\n",
       "      <th>PM10</th>\n",
       "      <th>PM25</th>\n",
       "      <th>지역</th>\n",
       "      <th>측정일시</th>\n",
       "    </tr>\n",
       "  </thead>\n",
       "  <tbody>\n",
       "    <tr>\n",
       "      <th>0</th>\n",
       "      <td>33.0</td>\n",
       "      <td>11.0</td>\n",
       "      <td>강원 강릉시</td>\n",
       "      <td>2015010101</td>\n",
       "    </tr>\n",
       "    <tr>\n",
       "      <th>1</th>\n",
       "      <td>35.0</td>\n",
       "      <td>8.0</td>\n",
       "      <td>강원 강릉시</td>\n",
       "      <td>2015010102</td>\n",
       "    </tr>\n",
       "    <tr>\n",
       "      <th>2</th>\n",
       "      <td>37.0</td>\n",
       "      <td>9.0</td>\n",
       "      <td>강원 강릉시</td>\n",
       "      <td>2015010103</td>\n",
       "    </tr>\n",
       "    <tr>\n",
       "      <th>3</th>\n",
       "      <td>42.0</td>\n",
       "      <td>11.0</td>\n",
       "      <td>강원 강릉시</td>\n",
       "      <td>2015010104</td>\n",
       "    </tr>\n",
       "    <tr>\n",
       "      <th>4</th>\n",
       "      <td>47.0</td>\n",
       "      <td>8.0</td>\n",
       "      <td>강원 강릉시</td>\n",
       "      <td>2015010105</td>\n",
       "    </tr>\n",
       "  </tbody>\n",
       "</table>\n",
       "</div>"
      ],
      "text/plain": [
       "   PM10  PM25      지역        측정일시\n",
       "0  33.0  11.0  강원 강릉시  2015010101\n",
       "1  35.0   8.0  강원 강릉시  2015010102\n",
       "2  37.0   9.0  강원 강릉시  2015010103\n",
       "3  42.0  11.0  강원 강릉시  2015010104\n",
       "4  47.0   8.0  강원 강릉시  2015010105"
      ]
     },
     "execution_count": 7,
     "metadata": {},
     "output_type": "execute_result"
    }
   ],
   "source": [
    "df.head()"
   ]
  },
  {
   "cell_type": "code",
   "execution_count": 8,
   "metadata": {},
   "outputs": [],
   "source": [
    "df['측정일시'] = df[\"측정일시\"].astype(str).str[:8].astype(int)\n",
    "df['연도'] = df[\"측정일시\"].astype(str).str[:4].astype(int)\n",
    "df['월'] = df[\"측정일시\"].astype(str).str[4:6].astype(int)\n",
    "df['일'] = df[\"측정일시\"].astype(str).str[6:8].astype(int)"
   ]
  },
  {
   "cell_type": "code",
   "execution_count": 9,
   "metadata": {},
   "outputs": [
    {
     "data": {
      "text/html": [
       "<div>\n",
       "<style scoped>\n",
       "    .dataframe tbody tr th:only-of-type {\n",
       "        vertical-align: middle;\n",
       "    }\n",
       "\n",
       "    .dataframe tbody tr th {\n",
       "        vertical-align: top;\n",
       "    }\n",
       "\n",
       "    .dataframe thead th {\n",
       "        text-align: right;\n",
       "    }\n",
       "</style>\n",
       "<table border=\"1\" class=\"dataframe\">\n",
       "  <thead>\n",
       "    <tr style=\"text-align: right;\">\n",
       "      <th></th>\n",
       "      <th>PM10</th>\n",
       "      <th>PM25</th>\n",
       "      <th>지역</th>\n",
       "      <th>측정일시</th>\n",
       "      <th>연도</th>\n",
       "      <th>월</th>\n",
       "      <th>일</th>\n",
       "    </tr>\n",
       "  </thead>\n",
       "  <tbody>\n",
       "    <tr>\n",
       "      <th>0</th>\n",
       "      <td>33.0</td>\n",
       "      <td>11.0</td>\n",
       "      <td>강원 강릉시</td>\n",
       "      <td>20150101</td>\n",
       "      <td>2015</td>\n",
       "      <td>1</td>\n",
       "      <td>1</td>\n",
       "    </tr>\n",
       "    <tr>\n",
       "      <th>1</th>\n",
       "      <td>35.0</td>\n",
       "      <td>8.0</td>\n",
       "      <td>강원 강릉시</td>\n",
       "      <td>20150101</td>\n",
       "      <td>2015</td>\n",
       "      <td>1</td>\n",
       "      <td>1</td>\n",
       "    </tr>\n",
       "    <tr>\n",
       "      <th>2</th>\n",
       "      <td>37.0</td>\n",
       "      <td>9.0</td>\n",
       "      <td>강원 강릉시</td>\n",
       "      <td>20150101</td>\n",
       "      <td>2015</td>\n",
       "      <td>1</td>\n",
       "      <td>1</td>\n",
       "    </tr>\n",
       "    <tr>\n",
       "      <th>3</th>\n",
       "      <td>42.0</td>\n",
       "      <td>11.0</td>\n",
       "      <td>강원 강릉시</td>\n",
       "      <td>20150101</td>\n",
       "      <td>2015</td>\n",
       "      <td>1</td>\n",
       "      <td>1</td>\n",
       "    </tr>\n",
       "    <tr>\n",
       "      <th>4</th>\n",
       "      <td>47.0</td>\n",
       "      <td>8.0</td>\n",
       "      <td>강원 강릉시</td>\n",
       "      <td>20150101</td>\n",
       "      <td>2015</td>\n",
       "      <td>1</td>\n",
       "      <td>1</td>\n",
       "    </tr>\n",
       "  </tbody>\n",
       "</table>\n",
       "</div>"
      ],
      "text/plain": [
       "   PM10  PM25      지역      측정일시    연도  월  일\n",
       "0  33.0  11.0  강원 강릉시  20150101  2015  1  1\n",
       "1  35.0   8.0  강원 강릉시  20150101  2015  1  1\n",
       "2  37.0   9.0  강원 강릉시  20150101  2015  1  1\n",
       "3  42.0  11.0  강원 강릉시  20150101  2015  1  1\n",
       "4  47.0   8.0  강원 강릉시  20150101  2015  1  1"
      ]
     },
     "execution_count": 9,
     "metadata": {},
     "output_type": "execute_result"
    }
   ],
   "source": [
    "df.head()"
   ]
  },
  {
   "cell_type": "code",
   "execution_count": 10,
   "metadata": {},
   "outputs": [
    {
     "data": {
      "text/plain": [
       "PM10    1980124\n",
       "PM25    7252625\n",
       "지역            0\n",
       "측정일시          0\n",
       "연도            0\n",
       "월             0\n",
       "일             0\n",
       "dtype: int64"
      ]
     },
     "execution_count": 10,
     "metadata": {},
     "output_type": "execute_result"
    }
   ],
   "source": [
    "df.isnull().sum()"
   ]
  },
  {
   "cell_type": "code",
   "execution_count": 11,
   "metadata": {},
   "outputs": [],
   "source": [
    "df = df.dropna()"
   ]
  },
  {
   "cell_type": "code",
   "execution_count": 12,
   "metadata": {},
   "outputs": [
    {
     "data": {
      "text/plain": [
       "PM10    0\n",
       "PM25    0\n",
       "지역      0\n",
       "측정일시    0\n",
       "연도      0\n",
       "월       0\n",
       "일       0\n",
       "dtype: int64"
      ]
     },
     "execution_count": 12,
     "metadata": {},
     "output_type": "execute_result"
    }
   ],
   "source": [
    "df.isnull().sum()"
   ]
  },
  {
   "cell_type": "code",
   "execution_count": 13,
   "metadata": {},
   "outputs": [],
   "source": [
    "df = df.groupby(['지역', '측정일시', '연도', '월', '일']).mean()"
   ]
  },
  {
   "cell_type": "code",
   "execution_count": 14,
   "metadata": {},
   "outputs": [
    {
     "data": {
      "text/html": [
       "<div>\n",
       "<style scoped>\n",
       "    .dataframe tbody tr th:only-of-type {\n",
       "        vertical-align: middle;\n",
       "    }\n",
       "\n",
       "    .dataframe tbody tr th {\n",
       "        vertical-align: top;\n",
       "    }\n",
       "\n",
       "    .dataframe thead th {\n",
       "        text-align: right;\n",
       "    }\n",
       "</style>\n",
       "<table border=\"1\" class=\"dataframe\">\n",
       "  <thead>\n",
       "    <tr style=\"text-align: right;\">\n",
       "      <th></th>\n",
       "      <th></th>\n",
       "      <th></th>\n",
       "      <th></th>\n",
       "      <th></th>\n",
       "      <th>PM10</th>\n",
       "      <th>PM25</th>\n",
       "    </tr>\n",
       "    <tr>\n",
       "      <th>지역</th>\n",
       "      <th>측정일시</th>\n",
       "      <th>연도</th>\n",
       "      <th>월</th>\n",
       "      <th>일</th>\n",
       "      <th></th>\n",
       "      <th></th>\n",
       "    </tr>\n",
       "  </thead>\n",
       "  <tbody>\n",
       "    <tr>\n",
       "      <th rowspan=\"5\" valign=\"top\">강원 강릉시</th>\n",
       "      <th>20150101</th>\n",
       "      <th>2015</th>\n",
       "      <th>1</th>\n",
       "      <th>1</th>\n",
       "      <td>60.375000</td>\n",
       "      <td>8.625000</td>\n",
       "    </tr>\n",
       "    <tr>\n",
       "      <th>20150102</th>\n",
       "      <th>2015</th>\n",
       "      <th>1</th>\n",
       "      <th>2</th>\n",
       "      <td>30.416667</td>\n",
       "      <td>7.416667</td>\n",
       "    </tr>\n",
       "    <tr>\n",
       "      <th>20150103</th>\n",
       "      <th>2015</th>\n",
       "      <th>1</th>\n",
       "      <th>3</th>\n",
       "      <td>27.333333</td>\n",
       "      <td>6.958333</td>\n",
       "    </tr>\n",
       "    <tr>\n",
       "      <th>20150104</th>\n",
       "      <th>2015</th>\n",
       "      <th>1</th>\n",
       "      <th>4</th>\n",
       "      <td>49.869565</td>\n",
       "      <td>21.782609</td>\n",
       "    </tr>\n",
       "    <tr>\n",
       "      <th>20150105</th>\n",
       "      <th>2015</th>\n",
       "      <th>1</th>\n",
       "      <th>5</th>\n",
       "      <td>62.291667</td>\n",
       "      <td>25.500000</td>\n",
       "    </tr>\n",
       "    <tr>\n",
       "      <th>...</th>\n",
       "      <th>...</th>\n",
       "      <th>...</th>\n",
       "      <th>...</th>\n",
       "      <th>...</th>\n",
       "      <td>...</td>\n",
       "      <td>...</td>\n",
       "    </tr>\n",
       "    <tr>\n",
       "      <th rowspan=\"5\" valign=\"top\">충북 충주시</th>\n",
       "      <th>20211227</th>\n",
       "      <th>2021</th>\n",
       "      <th>12</th>\n",
       "      <th>27</th>\n",
       "      <td>23.912088</td>\n",
       "      <td>13.010989</td>\n",
       "    </tr>\n",
       "    <tr>\n",
       "      <th>20211228</th>\n",
       "      <th>2021</th>\n",
       "      <th>12</th>\n",
       "      <th>28</th>\n",
       "      <td>50.770833</td>\n",
       "      <td>35.802083</td>\n",
       "    </tr>\n",
       "    <tr>\n",
       "      <th>20211229</th>\n",
       "      <th>2021</th>\n",
       "      <th>12</th>\n",
       "      <th>29</th>\n",
       "      <td>54.864583</td>\n",
       "      <td>38.500000</td>\n",
       "    </tr>\n",
       "    <tr>\n",
       "      <th>20211230</th>\n",
       "      <th>2021</th>\n",
       "      <th>12</th>\n",
       "      <th>30</th>\n",
       "      <td>33.031579</td>\n",
       "      <td>16.315789</td>\n",
       "    </tr>\n",
       "    <tr>\n",
       "      <th>20211231</th>\n",
       "      <th>2021</th>\n",
       "      <th>12</th>\n",
       "      <th>31</th>\n",
       "      <td>23.895833</td>\n",
       "      <td>8.541667</td>\n",
       "    </tr>\n",
       "  </tbody>\n",
       "</table>\n",
       "<p>416179 rows × 2 columns</p>\n",
       "</div>"
      ],
      "text/plain": [
       "                                 PM10       PM25\n",
       "지역     측정일시     연도   월  일                       \n",
       "강원 강릉시 20150101 2015 1  1   60.375000   8.625000\n",
       "       20150102 2015 1  2   30.416667   7.416667\n",
       "       20150103 2015 1  3   27.333333   6.958333\n",
       "       20150104 2015 1  4   49.869565  21.782609\n",
       "       20150105 2015 1  5   62.291667  25.500000\n",
       "...                               ...        ...\n",
       "충북 충주시 20211227 2021 12 27  23.912088  13.010989\n",
       "       20211228 2021 12 28  50.770833  35.802083\n",
       "       20211229 2021 12 29  54.864583  38.500000\n",
       "       20211230 2021 12 30  33.031579  16.315789\n",
       "       20211231 2021 12 31  23.895833   8.541667\n",
       "\n",
       "[416179 rows x 2 columns]"
      ]
     },
     "execution_count": 14,
     "metadata": {},
     "output_type": "execute_result"
    }
   ],
   "source": [
    "df"
   ]
  },
  {
   "cell_type": "code",
   "execution_count": 15,
   "metadata": {},
   "outputs": [],
   "source": [
    "df.to_csv('misemise_processed.csv', encoding=\"cp949\")"
   ]
  },
  {
   "cell_type": "code",
   "execution_count": null,
   "metadata": {},
   "outputs": [],
   "source": []
  }
 ],
 "metadata": {
  "kernelspec": {
   "display_name": "Python 3.9.12 ('base')",
   "language": "python",
   "name": "python3"
  },
  "language_info": {
   "codemirror_mode": {
    "name": "ipython",
    "version": 3
   },
   "file_extension": ".py",
   "mimetype": "text/x-python",
   "name": "python",
   "nbconvert_exporter": "python",
   "pygments_lexer": "ipython3",
   "version": "3.9.13"
  },
  "orig_nbformat": 4,
  "vscode": {
   "interpreter": {
    "hash": "8587b451efcba298dd5cb1dc3f657fe0af639f7bbcb7094ce649d9b4e7df0a81"
   }
  }
 },
 "nbformat": 4,
 "nbformat_minor": 2
}
