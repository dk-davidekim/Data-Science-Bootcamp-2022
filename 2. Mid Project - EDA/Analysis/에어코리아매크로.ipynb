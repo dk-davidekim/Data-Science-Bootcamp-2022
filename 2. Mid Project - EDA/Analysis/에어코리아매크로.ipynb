{
 "cells": [
  {
   "cell_type": "code",
   "execution_count": 7,
   "metadata": {},
   "outputs": [],
   "source": [
    "import selenium\n",
    "from selenium import webdriver\n",
    "from selenium.webdriver.common.by import By\n",
    "from selenium.webdriver.support.ui import WebDriverWait\n",
    "from selenium.webdriver.support import expected_conditions as EC\n",
    "from webdriver_manager.chrome import ChromeDriverManager # 자동으로 크롬드라이버(가상브라우저) 파일을 다운로드해주는 라이브러리\n",
    "from selenium.webdriver.chrome.service import Service # 다운로드된 크롬드라이버 파일을 연결하기 위해 활용"
   ]
  },
  {
   "cell_type": "code",
   "execution_count": 8,
   "metadata": {},
   "outputs": [],
   "source": [
    "from selenium import webdriver\n",
    "from selenium.webdriver.common.by import By\n",
    "from selenium.webdriver.common.keys import Keys\n",
    "from selenium.webdriver.support.ui import WebDriverWait\n",
    "from selenium.webdriver.support import expected_conditions as EC\n",
    "from bs4 import BeautifulSoup\n",
    "import pandas as pd\n",
    "import time, csv"
   ]
  },
  {
   "cell_type": "code",
   "execution_count": 12,
   "metadata": {},
   "outputs": [
    {
     "ename": "KeyboardInterrupt",
     "evalue": "",
     "output_type": "error",
     "traceback": [
      "\u001b[0;31m---------------------------------------------------------------------------\u001b[0m",
      "\u001b[0;31mKeyboardInterrupt\u001b[0m                         Traceback (most recent call last)",
      "Cell \u001b[0;32mIn[12], line 45\u001b[0m\n\u001b[1;32m     43\u001b[0m driver\u001b[39m.\u001b[39mfind_element(By\u001b[39m.\u001b[39mCSS_SELECTOR,\u001b[39m'\u001b[39m\u001b[39m#cont_body > form > div > div > a:nth-child(1)\u001b[39m\u001b[39m'\u001b[39m)\u001b[39m.\u001b[39mclick() \u001b[39m# 검색 클릭\u001b[39;00m\n\u001b[1;32m     44\u001b[0m wait \u001b[39m=\u001b[39m WebDriverWait(driver, \u001b[39m10\u001b[39m)\n\u001b[0;32m---> 45\u001b[0m time\u001b[39m.\u001b[39;49msleep(\u001b[39m20\u001b[39;49m)\n\u001b[1;32m     47\u001b[0m html \u001b[39m=\u001b[39m driver\u001b[39m.\u001b[39mpage_source\n\u001b[1;32m     48\u001b[0m soup \u001b[39m=\u001b[39m BeautifulSoup(html, \u001b[39m'\u001b[39m\u001b[39mhtml.parser\u001b[39m\u001b[39m'\u001b[39m)\n",
      "\u001b[0;31mKeyboardInterrupt\u001b[0m: "
     ]
    }
   ],
   "source": [
    "# 일단 'https://chromedriver.chromium.org/downloads'에서 자신의 크롬 버젼에 맞는 드라이버 다운 후\n",
    "# 윈도우즈는 C드라이브에, 맥북은 Documents에 저장\n",
    "\n",
    "driver = webdriver.Chrome(service=Service(ChromeDriverManager().install()))\n",
    "# Mac은 '/Users/***컴퓨터계정이름***/Documents/chromedriver'\n",
    "# Windows는 'C:/chromedriver.exe'\n",
    "\n",
    "url = 'https://www.airkorea.or.kr/web/pmRelay?itemCode=11008&pMENU_NO=109'\n",
    "\n",
    "# 웹사이트 열기\n",
    "driver.get(url)\n",
    "driver.implicitly_wait(10)\n",
    "# 로딩이 끝날 때까지 10초까지 기다림\n",
    "\n",
    "driver.find_element(By.CSS_SELECTOR,'#strDateDiv2').click() # 일평균 클릭\n",
    "time.sleep(1)\n",
    "\n",
    "current_file_index = 0\n",
    "\n",
    "df_final = pd.DataFrame(columns = [\"시\", \"연도\", \"월\", \"지점ID\", \"지점\"])\n",
    "\n",
    "\n",
    "for y in range(1,9):\n",
    "    year_option = driver.find_element(By.CSS_SELECTOR, f'#searchDate_yyyy > option:nth-child({y})')\n",
    "    year = year_option.text\n",
    "    year_option.click()\n",
    "    time.sleep(1)\n",
    "\n",
    "    for m in range(13,1, -1):\n",
    "        if y == 1 and m > 11:\n",
    "            continue\n",
    "        month_option = driver.find_element(By.CSS_SELECTOR, f'#searchDate_mm > option:nth-child({m})')\n",
    "        month = month_option.text\n",
    "        month_option.click()\n",
    "        time.sleep(1)\n",
    "\n",
    "        for d in range(1,18):\n",
    "            district_option = driver.find_element(By.CSS_SELECTOR,f'#district > option:nth-child({d})')\n",
    "            district = district_option.text\n",
    "            district_option.click()\n",
    "            time.sleep(1)\n",
    "\n",
    "            driver.find_element(By.CSS_SELECTOR,'#cont_body > form > div > div > a:nth-child(1)').click() # 검색 클릭\n",
    "            wait = WebDriverWait(driver, 10)\n",
    "            time.sleep(20)\n",
    "            \n",
    "            html = driver.page_source\n",
    "            soup = BeautifulSoup(html, 'html.parser')\n",
    "            t = soup.select(\"#tablefix1\")\n",
    "            table = pd.read_html(str(t))[0]\n",
    "\n",
    "\n",
    "            df = pd.DataFrame(table)\n",
    "            df[\"연도\"] = int(year)\n",
    "            df[\"월\"] = int(month)\n",
    "            df[\"시\"] = district\n",
    "\n",
    "            df_final = pd.concat([df_final, df])\n",
    "\n",
    "            current_file_index += 1\n",
    "            "
   ]
  },
  {
   "cell_type": "code",
   "execution_count": null,
   "metadata": {},
   "outputs": [],
   "source": []
  }
 ],
 "metadata": {
  "kernelspec": {
   "display_name": "base",
   "language": "python",
   "name": "python3"
  },
  "language_info": {
   "codemirror_mode": {
    "name": "ipython",
    "version": 3
   },
   "file_extension": ".py",
   "mimetype": "text/x-python",
   "name": "python",
   "nbconvert_exporter": "python",
   "pygments_lexer": "ipython3",
   "version": "3.9.15"
  },
  "orig_nbformat": 4,
  "vscode": {
   "interpreter": {
    "hash": "8f807fda92f20a86fe0cf9a7fb20f5cc46478756bf29c3db068708b68d71bcd3"
   }
  }
 },
 "nbformat": 4,
 "nbformat_minor": 2
}
