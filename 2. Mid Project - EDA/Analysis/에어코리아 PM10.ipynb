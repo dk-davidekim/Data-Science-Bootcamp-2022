{
 "cells": [
  {
   "cell_type": "code",
   "execution_count": 1,
   "metadata": {},
   "outputs": [],
   "source": [
    "from selenium import webdriver\n",
    "from selenium.webdriver.common.by import By\n",
    "from selenium.webdriver.common.keys import Keys\n",
    "from selenium.webdriver.support.ui import WebDriverWait\n",
    "from selenium.webdriver.support import expected_conditions as EC\n",
    "from bs4 import BeautifulSoup\n",
    "import pandas as pd\n",
    "import time, csv"
   ]
  },
  {
   "cell_type": "code",
   "execution_count": 3,
   "metadata": {},
   "outputs": [
    {
     "name": "stderr",
     "output_type": "stream",
     "text": [
      "/var/folders/vl/mmn9ctlx4m58c_kvrkgwprlm0000gn/T/ipykernel_23257/4139167956.py:4: DeprecationWarning: executable_path has been deprecated, please pass in a Service object\n",
      "  driver = webdriver.Chrome('/Users/davidekim/Documents/chromedriver')\n"
     ]
    },
    {
     "ename": "IndexError",
     "evalue": "list index out of range",
     "output_type": "error",
     "traceback": [
      "\u001b[0;31m---------------------------------------------------------------------------\u001b[0m",
      "\u001b[0;31mIndexError\u001b[0m                                Traceback (most recent call last)",
      "\u001b[1;32m/Users/davidekim/Desktop/MidProject/에어코리아 PM10.ipynb Cell 2\u001b[0m in \u001b[0;36m<cell line: 24>\u001b[0;34m()\u001b[0m\n\u001b[1;32m     <a href='vscode-notebook-cell:/Users/davidekim/Desktop/MidProject/%EC%97%90%EC%96%B4%EC%BD%94%EB%A6%AC%EC%95%84%20PM10.ipynb#W1sZmlsZQ%3D%3D?line=48'>49</a>\u001b[0m soup \u001b[39m=\u001b[39m BeautifulSoup(html, \u001b[39m'\u001b[39m\u001b[39mhtml.parser\u001b[39m\u001b[39m'\u001b[39m)\n\u001b[1;32m     <a href='vscode-notebook-cell:/Users/davidekim/Desktop/MidProject/%EC%97%90%EC%96%B4%EC%BD%94%EB%A6%AC%EC%95%84%20PM10.ipynb#W1sZmlsZQ%3D%3D?line=49'>50</a>\u001b[0m t \u001b[39m=\u001b[39m soup\u001b[39m.\u001b[39mselect(\u001b[39m\"\u001b[39m\u001b[39m#tablefix1\u001b[39m\u001b[39m\"\u001b[39m)\n\u001b[0;32m---> <a href='vscode-notebook-cell:/Users/davidekim/Desktop/MidProject/%EC%97%90%EC%96%B4%EC%BD%94%EB%A6%AC%EC%95%84%20PM10.ipynb#W1sZmlsZQ%3D%3D?line=50'>51</a>\u001b[0m table \u001b[39m=\u001b[39m pd\u001b[39m.\u001b[39;49mread_html(\u001b[39mstr\u001b[39;49m(t))[\u001b[39m0\u001b[39;49m]\n\u001b[1;32m     <a href='vscode-notebook-cell:/Users/davidekim/Desktop/MidProject/%EC%97%90%EC%96%B4%EC%BD%94%EB%A6%AC%EC%95%84%20PM10.ipynb#W1sZmlsZQ%3D%3D?line=52'>53</a>\u001b[0m df_final \u001b[39m=\u001b[39m pd\u001b[39m.\u001b[39mread_csv(\u001b[39mf\u001b[39m\u001b[39m'\u001b[39m\u001b[39mfinedust_data_10/fine_dust\u001b[39m\u001b[39m{\u001b[39;00mcurrent_file_index\u001b[39m}\u001b[39;00m\u001b[39m.csv\u001b[39m\u001b[39m'\u001b[39m, encoding\u001b[39m=\u001b[39m\u001b[39m\"\u001b[39m\u001b[39mutf-8-sig\u001b[39m\u001b[39m\"\u001b[39m)\n\u001b[1;32m     <a href='vscode-notebook-cell:/Users/davidekim/Desktop/MidProject/%EC%97%90%EC%96%B4%EC%BD%94%EB%A6%AC%EC%95%84%20PM10.ipynb#W1sZmlsZQ%3D%3D?line=54'>55</a>\u001b[0m df \u001b[39m=\u001b[39m pd\u001b[39m.\u001b[39mDataFrame(table)\n",
      "\u001b[0;31mIndexError\u001b[0m: list index out of range"
     ]
    }
   ],
   "source": [
    "# 일단 'https://chromedriver.chromium.org/downloads'에서 자신의 크롬 버젼에 맞는 드라이버 다운 후\n",
    "# 윈도우즈는 C드라이브에, 맥북은 Documents에 저장\n",
    "\n",
    "driver = webdriver.Chrome('/Users/davidekim/Documents/chromedriver')\n",
    "# Mac은 '/Users/***컴퓨터계정이름***/Documents/chromedriver'\n",
    "# Windows는 'C:/chromedriver.exe'\n",
    "\n",
    "url = 'https://www.airkorea.or.kr/web/pmRelay?itemCode=10007&pMENU_NO=108'\n",
    "\n",
    "# 웹사이트 열기\n",
    "driver.get(url)\n",
    "driver.implicitly_wait(10)\n",
    "# 로딩이 끝날 때까지 10초까지 기다림\n",
    "\n",
    "driver.find_element(By.CSS_SELECTOR,'#strDateDiv2').click() # 일평균 클릭\n",
    "time.sleep(2)\n",
    "\n",
    "current_file_index = 0\n",
    "\n",
    "df_final = pd.DataFrame(columns = [\"시\", \"연도\", \"월\", \"지점ID\", \"지점\"])\n",
    "\n",
    "df_final.to_csv(f'finedust_data_10/fine_dust{current_file_index}.csv', index=False, encoding=\"utf-8-sig\")\n",
    "\n",
    "for y in range(1,9):\n",
    "    year_option = driver.find_element(By.CSS_SELECTOR, f'#searchDate_yyyy > option:nth-child({y})')\n",
    "    year = year_option.text\n",
    "    year_option.click()\n",
    "    time.sleep(2)\n",
    "\n",
    "    for m in range(13,1, -1):\n",
    "        if y == 1 and m > 11:\n",
    "            continue\n",
    "        month_option = driver.find_element(By.CSS_SELECTOR, f'#searchDate_mm > option:nth-child({m})')\n",
    "        month = month_option.text\n",
    "        month_option.click()\n",
    "        time.sleep(2)\n",
    "\n",
    "        for d in range(1,18):\n",
    "            district_option = driver.find_element(By.CSS_SELECTOR,f'#district > option:nth-child({d})')\n",
    "            district = district_option.text\n",
    "            district_option.click()\n",
    "            time.sleep(2)\n",
    "\n",
    "            driver.find_element(By.CSS_SELECTOR,'#cont_body > form > div > div > a:nth-child(1)').click() # 검색 클릭\n",
    "            wait = WebDriverWait(driver, 10)\n",
    "            time.sleep(20)\n",
    "            \n",
    "            html = driver.page_source\n",
    "            soup = BeautifulSoup(html, 'html.parser')\n",
    "            t = soup.select(\"#tablefix1\")\n",
    "            table = pd.read_html(str(t))[0]\n",
    "\n",
    "            df_final = pd.read_csv(f'finedust_data_10/fine_dust{current_file_index}.csv', encoding=\"utf-8-sig\")\n",
    "\n",
    "            df = pd.DataFrame(table)\n",
    "            df[\"연도\"] = int(year)\n",
    "            df[\"월\"] = int(month)\n",
    "            df[\"시\"] = district\n",
    "\n",
    "            df_final = pd.concat([df_final, df])\n",
    "\n",
    "            current_file_index += 1\n",
    "\n",
    "            df_final.to_csv(f'finedust_data_10/fine_dust{current_file_index}.csv', index=False, encoding=\"utf-8-sig\")\n",
    "            "
   ]
  }
 ],
 "metadata": {
  "kernelspec": {
   "display_name": "Python 3.9.12 ('base')",
   "language": "python",
   "name": "python3"
  },
  "language_info": {
   "codemirror_mode": {
    "name": "ipython",
    "version": 3
   },
   "file_extension": ".py",
   "mimetype": "text/x-python",
   "name": "python",
   "nbconvert_exporter": "python",
   "pygments_lexer": "ipython3",
   "version": "3.9.12"
  },
  "orig_nbformat": 4,
  "vscode": {
   "interpreter": {
    "hash": "8587b451efcba298dd5cb1dc3f657fe0af639f7bbcb7094ce649d9b4e7df0a81"
   }
  }
 },
 "nbformat": 4,
 "nbformat_minor": 2
}
