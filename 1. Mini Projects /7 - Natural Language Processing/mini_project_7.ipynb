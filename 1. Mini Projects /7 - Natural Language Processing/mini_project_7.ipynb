{
 "cells": [
  {
   "attachments": {},
   "cell_type": "markdown",
   "metadata": {},
   "source": [
    "## 자연어 기반 기후기술분류 AI 경진대회 ☔️❄️☀️☁️\n",
    "[데이터]\n",
    "\n",
    "train.csv :\t\t \n",
    "train 데이터 \n",
    "기후기술분류 label 포함\n",
    "train.shape: (174304, 13)\n",
    "\n",
    "\n",
    "test.csv : \n",
    "test 데이터 \n",
    "기후기술분류 label 미포함\n",
    "test.shape: (43576, 12)\n",
    "\n",
    "\n",
    "\n",
    "\n",
    "sample_submission.csv : \n",
    "sample_submission 데이터 \n",
    "sample_submission.shape: (43576, 2)\n",
    "\n",
    "\n",
    "labels_mapping.csv : \n",
    "label과 기후기술분류체계를 mapping 한 meta data\n",
    "\n",
    "#### https://dacon.io/competitions/official/235744/overview/description"
   ]
  },
  {
   "attachments": {},
   "cell_type": "markdown",
   "metadata": {},
   "source": [
    "## 라이브러리 불러오기"
   ]
  },
  {
   "cell_type": "code",
   "execution_count": 2,
   "metadata": {},
   "outputs": [],
   "source": [
    "import pandas as pd\n",
    "import numpy as np\n",
    "import matplotlib.pyplot as plt\n",
    "import koreanize_matplotlib\n",
    "import re\n",
    "import json\n",
    "import os\n",
    "import tqdm\n",
    "\n",
    "from konlpy.tag import Okt\n",
    "\n",
    "import sklearn\n",
    "from sklearn.preprocessing import LabelEncoder\n",
    "\n",
    "from sklearn.metrics import log_loss, accuracy_score,f1_score\n",
    "import tensorflow as tf\n",
    "from keras.utils import pad_sequences\n",
    "from keras.preprocessing.text import Tokenizer\n",
    "from keras.callbacks import EarlyStopping, ModelCheckpoint"
   ]
  },
  {
   "attachments": {},
   "cell_type": "markdown",
   "metadata": {},
   "source": [
    "## 데이터 보기"
   ]
  },
  {
   "cell_type": "code",
   "execution_count": 3,
   "metadata": {},
   "outputs": [],
   "source": [
    "train=pd.read_csv('train.csv')\n",
    "test=pd.read_csv('test.csv')\n",
    "sample_submission=pd.read_csv('sample_submission.csv')\n",
    "labels_mapping=pd.read_csv('labels_mapping.csv')"
   ]
  },
  {
   "cell_type": "code",
   "execution_count": 4,
   "metadata": {},
   "outputs": [
    {
     "data": {
      "text/html": [
       "<div>\n",
       "<style scoped>\n",
       "    .dataframe tbody tr th:only-of-type {\n",
       "        vertical-align: middle;\n",
       "    }\n",
       "\n",
       "    .dataframe tbody tr th {\n",
       "        vertical-align: top;\n",
       "    }\n",
       "\n",
       "    .dataframe thead th {\n",
       "        text-align: right;\n",
       "    }\n",
       "</style>\n",
       "<table border=\"1\" class=\"dataframe\">\n",
       "  <thead>\n",
       "    <tr style=\"text-align: right;\">\n",
       "      <th></th>\n",
       "      <th>index</th>\n",
       "      <th>제출년도</th>\n",
       "      <th>사업명</th>\n",
       "      <th>사업_부처명</th>\n",
       "      <th>계속과제여부</th>\n",
       "      <th>내역사업명</th>\n",
       "      <th>과제명</th>\n",
       "      <th>요약문_연구목표</th>\n",
       "      <th>요약문_연구내용</th>\n",
       "      <th>요약문_기대효과</th>\n",
       "      <th>요약문_한글키워드</th>\n",
       "      <th>요약문_영문키워드</th>\n",
       "      <th>label</th>\n",
       "    </tr>\n",
       "  </thead>\n",
       "  <tbody>\n",
       "    <tr>\n",
       "      <th>0</th>\n",
       "      <td>0</td>\n",
       "      <td>2016</td>\n",
       "      <td>농업기초기반연구</td>\n",
       "      <td>농촌진흥청</td>\n",
       "      <td>신규</td>\n",
       "      <td>농산물안전성연구</td>\n",
       "      <td>유전정보를 활용한 새로운 해충 분류군 동정기술 개발</td>\n",
       "      <td>○ 새로운 해충분류군의 동정기술 개발 및 유입확산 추적</td>\n",
       "      <td>(가) 외래 및 돌발해충의 발생조사 및 종 동정\\n\\n\\n    ○ 대상해충 : 최...</td>\n",
       "      <td>○ 새로운 돌발 및 외래해충의 신속, 정확한 동정법 향상\\n\\n\\n○ 돌발 및 외래...</td>\n",
       "      <td>뉴클레오티드 염기서열, 분자마커, 종 동정, 침샘, 전사체</td>\n",
       "      <td>nucleotide sequence, molecular marker, species...</td>\n",
       "      <td>24</td>\n",
       "    </tr>\n",
       "    <tr>\n",
       "      <th>1</th>\n",
       "      <td>1</td>\n",
       "      <td>2019</td>\n",
       "      <td>이공학학술연구기반구축(R&amp;D)</td>\n",
       "      <td>교육부</td>\n",
       "      <td>신규</td>\n",
       "      <td>지역대학우수과학자지원사업(1년~5년)</td>\n",
       "      <td>대장암의 TRAIL 내성 표적 인자 발굴 및 TRAIL 반응 예측 유전자 지도 구축...</td>\n",
       "      <td>최종목표:  TRAIL 감수성 표적 유전자를 발굴하고 내성제어 기전을 연구. 발굴된...</td>\n",
       "      <td>1차년도\\n1) Microarray를 통한 선천적 TRAIL 내성 표적 후보 유전자...</td>\n",
       "      <td>1) TRAIL 내성 특이적 표적분자를 발굴하고, 이를 이용한 TRAIL 효과 증진...</td>\n",
       "      <td>대장암,항암제 내성,세포사멸,유전자발굴</td>\n",
       "      <td>TRAIL,Colorectal cancer,TRAIL resistance,Apopt...</td>\n",
       "      <td>0</td>\n",
       "    </tr>\n",
       "  </tbody>\n",
       "</table>\n",
       "</div>"
      ],
      "text/plain": [
       "   index  제출년도               사업명 사업_부처명 계속과제여부                 내역사업명  \\\n",
       "0      0  2016          농업기초기반연구  농촌진흥청     신규              농산물안전성연구   \n",
       "1      1  2019  이공학학술연구기반구축(R&D)    교육부     신규  지역대학우수과학자지원사업(1년~5년)   \n",
       "\n",
       "                                                 과제명  \\\n",
       "0                       유전정보를 활용한 새로운 해충 분류군 동정기술 개발   \n",
       "1  대장암의 TRAIL 내성 표적 인자 발굴 및 TRAIL 반응 예측 유전자 지도 구축...   \n",
       "\n",
       "                                            요약문_연구목표  \\\n",
       "0                     ○ 새로운 해충분류군의 동정기술 개발 및 유입확산 추적   \n",
       "1  최종목표:  TRAIL 감수성 표적 유전자를 발굴하고 내성제어 기전을 연구. 발굴된...   \n",
       "\n",
       "                                            요약문_연구내용  \\\n",
       "0  (가) 외래 및 돌발해충의 발생조사 및 종 동정\\n\\n\\n    ○ 대상해충 : 최...   \n",
       "1  1차년도\\n1) Microarray를 통한 선천적 TRAIL 내성 표적 후보 유전자...   \n",
       "\n",
       "                                            요약문_기대효과  \\\n",
       "0  ○ 새로운 돌발 및 외래해충의 신속, 정확한 동정법 향상\\n\\n\\n○ 돌발 및 외래...   \n",
       "1  1) TRAIL 내성 특이적 표적분자를 발굴하고, 이를 이용한 TRAIL 효과 증진...   \n",
       "\n",
       "                          요약문_한글키워드  \\\n",
       "0  뉴클레오티드 염기서열, 분자마커, 종 동정, 침샘, 전사체   \n",
       "1             대장암,항암제 내성,세포사멸,유전자발굴   \n",
       "\n",
       "                                           요약문_영문키워드  label  \n",
       "0  nucleotide sequence, molecular marker, species...     24  \n",
       "1  TRAIL,Colorectal cancer,TRAIL resistance,Apopt...      0  "
      ]
     },
     "execution_count": 4,
     "metadata": {},
     "output_type": "execute_result"
    }
   ],
   "source": [
    "train.head(2)"
   ]
  },
  {
   "cell_type": "code",
   "execution_count": 5,
   "metadata": {},
   "outputs": [
    {
     "data": {
      "text/html": [
       "<div>\n",
       "<style scoped>\n",
       "    .dataframe tbody tr th:only-of-type {\n",
       "        vertical-align: middle;\n",
       "    }\n",
       "\n",
       "    .dataframe tbody tr th {\n",
       "        vertical-align: top;\n",
       "    }\n",
       "\n",
       "    .dataframe thead th {\n",
       "        text-align: right;\n",
       "    }\n",
       "</style>\n",
       "<table border=\"1\" class=\"dataframe\">\n",
       "  <thead>\n",
       "    <tr style=\"text-align: right;\">\n",
       "      <th></th>\n",
       "      <th>index</th>\n",
       "      <th>제출년도</th>\n",
       "      <th>사업명</th>\n",
       "      <th>사업_부처명</th>\n",
       "      <th>계속과제여부</th>\n",
       "      <th>내역사업명</th>\n",
       "      <th>과제명</th>\n",
       "      <th>요약문_연구목표</th>\n",
       "      <th>요약문_연구내용</th>\n",
       "      <th>요약문_기대효과</th>\n",
       "      <th>요약문_한글키워드</th>\n",
       "      <th>요약문_영문키워드</th>\n",
       "    </tr>\n",
       "  </thead>\n",
       "  <tbody>\n",
       "    <tr>\n",
       "      <th>0</th>\n",
       "      <td>174304</td>\n",
       "      <td>2016</td>\n",
       "      <td>경제협력권산업육성</td>\n",
       "      <td>산업통상자원부</td>\n",
       "      <td>신규</td>\n",
       "      <td>자동차융합부품</td>\n",
       "      <td>R-FSSW 기술 적용 경량 차체 부품 개발 및 품질 평가를 위한 64채널 C-SC...</td>\n",
       "      <td>○ 차체 점용접부의 품질 검사를 위한 64채널 무선 기반 C-Scan 탐촉자 개발\\...</td>\n",
       "      <td>○ 1차년도\\n\\n    . 개발 탐촉 시스템의 성능 평가 위한 표준 시편 제작 시...</td>\n",
       "      <td>○ 기술적 파급효과\\n\\n  - 본 연구에서 개발된 R-FSSW 접합 기술은 기존 ...</td>\n",
       "      <td>마찰교반점용접, 비파괴 검사, 초음파 탐상, 씨 스캔, 용접 품질 평가</td>\n",
       "      <td>Friction Stir Spot Welding, Non-destructive ev...</td>\n",
       "    </tr>\n",
       "    <tr>\n",
       "      <th>1</th>\n",
       "      <td>174305</td>\n",
       "      <td>2018</td>\n",
       "      <td>개인기초연구(과기정통부)(R&amp;D)</td>\n",
       "      <td>과학기술정보통신부</td>\n",
       "      <td>계속</td>\n",
       "      <td>신진연구(총연구비5천이상~1.5억이하)</td>\n",
       "      <td>다입자계를 묘사하는 편미분방정식에 대한 연구</td>\n",
       "      <td>자연계에는 입자의 개수가 아주 큰 다양한 다입자계가 존재한다.  이런 다입자계의 효...</td>\n",
       "      <td>연구과제1. 무한입자계의 동역학 / 작용소(operator) 방정식에 대한 연구\\n...</td>\n",
       "      <td>본 연구는 물리학에서 중요한 대상인 다입자계를 묘사하는 모델방정식의 정당성을 보장하...</td>\n",
       "      <td>다체계 방정식,동역학의 안정성,양자역학,고전역학,평균장 극한,고전극한,비상대론적 극한</td>\n",
       "      <td>many particle system,stability of dynamics,qua...</td>\n",
       "    </tr>\n",
       "  </tbody>\n",
       "</table>\n",
       "</div>"
      ],
      "text/plain": [
       "    index  제출년도                 사업명     사업_부처명 계속과제여부                  내역사업명  \\\n",
       "0  174304  2016           경제협력권산업육성    산업통상자원부     신규                자동차융합부품   \n",
       "1  174305  2018  개인기초연구(과기정통부)(R&D)  과학기술정보통신부     계속  신진연구(총연구비5천이상~1.5억이하)   \n",
       "\n",
       "                                                 과제명  \\\n",
       "0  R-FSSW 기술 적용 경량 차체 부품 개발 및 품질 평가를 위한 64채널 C-SC...   \n",
       "1                           다입자계를 묘사하는 편미분방정식에 대한 연구   \n",
       "\n",
       "                                            요약문_연구목표  \\\n",
       "0  ○ 차체 점용접부의 품질 검사를 위한 64채널 무선 기반 C-Scan 탐촉자 개발\\...   \n",
       "1  자연계에는 입자의 개수가 아주 큰 다양한 다입자계가 존재한다.  이런 다입자계의 효...   \n",
       "\n",
       "                                            요약문_연구내용  \\\n",
       "0  ○ 1차년도\\n\\n    . 개발 탐촉 시스템의 성능 평가 위한 표준 시편 제작 시...   \n",
       "1  연구과제1. 무한입자계의 동역학 / 작용소(operator) 방정식에 대한 연구\\n...   \n",
       "\n",
       "                                            요약문_기대효과  \\\n",
       "0  ○ 기술적 파급효과\\n\\n  - 본 연구에서 개발된 R-FSSW 접합 기술은 기존 ...   \n",
       "1  본 연구는 물리학에서 중요한 대상인 다입자계를 묘사하는 모델방정식의 정당성을 보장하...   \n",
       "\n",
       "                                         요약문_한글키워드  \\\n",
       "0          마찰교반점용접, 비파괴 검사, 초음파 탐상, 씨 스캔, 용접 품질 평가   \n",
       "1  다체계 방정식,동역학의 안정성,양자역학,고전역학,평균장 극한,고전극한,비상대론적 극한   \n",
       "\n",
       "                                           요약문_영문키워드  \n",
       "0  Friction Stir Spot Welding, Non-destructive ev...  \n",
       "1  many particle system,stability of dynamics,qua...  "
      ]
     },
     "execution_count": 5,
     "metadata": {},
     "output_type": "execute_result"
    }
   ],
   "source": [
    "test.head(2)"
   ]
  },
  {
   "cell_type": "code",
   "execution_count": 6,
   "metadata": {},
   "outputs": [
    {
     "data": {
      "text/html": [
       "<div>\n",
       "<style scoped>\n",
       "    .dataframe tbody tr th:only-of-type {\n",
       "        vertical-align: middle;\n",
       "    }\n",
       "\n",
       "    .dataframe tbody tr th {\n",
       "        vertical-align: top;\n",
       "    }\n",
       "\n",
       "    .dataframe thead th {\n",
       "        text-align: right;\n",
       "    }\n",
       "</style>\n",
       "<table border=\"1\" class=\"dataframe\">\n",
       "  <thead>\n",
       "    <tr style=\"text-align: right;\">\n",
       "      <th></th>\n",
       "      <th>index</th>\n",
       "      <th>label</th>\n",
       "    </tr>\n",
       "  </thead>\n",
       "  <tbody>\n",
       "    <tr>\n",
       "      <th>0</th>\n",
       "      <td>174304</td>\n",
       "      <td>0</td>\n",
       "    </tr>\n",
       "    <tr>\n",
       "      <th>1</th>\n",
       "      <td>174305</td>\n",
       "      <td>0</td>\n",
       "    </tr>\n",
       "    <tr>\n",
       "      <th>2</th>\n",
       "      <td>174306</td>\n",
       "      <td>0</td>\n",
       "    </tr>\n",
       "    <tr>\n",
       "      <th>3</th>\n",
       "      <td>174307</td>\n",
       "      <td>0</td>\n",
       "    </tr>\n",
       "    <tr>\n",
       "      <th>4</th>\n",
       "      <td>174308</td>\n",
       "      <td>0</td>\n",
       "    </tr>\n",
       "  </tbody>\n",
       "</table>\n",
       "</div>"
      ],
      "text/plain": [
       "    index  label\n",
       "0  174304      0\n",
       "1  174305      0\n",
       "2  174306      0\n",
       "3  174307      0\n",
       "4  174308      0"
      ]
     },
     "execution_count": 6,
     "metadata": {},
     "output_type": "execute_result"
    }
   ],
   "source": [
    "sample_submission.head()"
   ]
  },
  {
   "cell_type": "code",
   "execution_count": 7,
   "metadata": {},
   "outputs": [
    {
     "data": {
      "text/html": [
       "<div>\n",
       "<style scoped>\n",
       "    .dataframe tbody tr th:only-of-type {\n",
       "        vertical-align: middle;\n",
       "    }\n",
       "\n",
       "    .dataframe tbody tr th {\n",
       "        vertical-align: top;\n",
       "    }\n",
       "\n",
       "    .dataframe thead th {\n",
       "        text-align: right;\n",
       "    }\n",
       "</style>\n",
       "<table border=\"1\" class=\"dataframe\">\n",
       "  <thead>\n",
       "    <tr style=\"text-align: right;\">\n",
       "      <th></th>\n",
       "      <th>label</th>\n",
       "      <th>소분류</th>\n",
       "    </tr>\n",
       "  </thead>\n",
       "  <tbody>\n",
       "    <tr>\n",
       "      <th>0</th>\n",
       "      <td>0</td>\n",
       "      <td>00. NaN</td>\n",
       "    </tr>\n",
       "    <tr>\n",
       "      <th>1</th>\n",
       "      <td>1</td>\n",
       "      <td>01. 원자력 발전</td>\n",
       "    </tr>\n",
       "    <tr>\n",
       "      <th>2</th>\n",
       "      <td>2</td>\n",
       "      <td>02. 핵융합 발전</td>\n",
       "    </tr>\n",
       "    <tr>\n",
       "      <th>3</th>\n",
       "      <td>3</td>\n",
       "      <td>03. 청정화력발전·효율화</td>\n",
       "    </tr>\n",
       "    <tr>\n",
       "      <th>4</th>\n",
       "      <td>4</td>\n",
       "      <td>04. 수력</td>\n",
       "    </tr>\n",
       "  </tbody>\n",
       "</table>\n",
       "</div>"
      ],
      "text/plain": [
       "   label             소분류\n",
       "0      0         00. NaN\n",
       "1      1      01. 원자력 발전\n",
       "2      2      02. 핵융합 발전\n",
       "3      3  03. 청정화력발전·효율화\n",
       "4      4          04. 수력"
      ]
     },
     "execution_count": 7,
     "metadata": {},
     "output_type": "execute_result"
    }
   ],
   "source": [
    "labels_mapping.head()"
   ]
  },
  {
   "cell_type": "code",
   "execution_count": 8,
   "metadata": {},
   "outputs": [
    {
     "data": {
      "text/plain": [
       "Index(['index', '제출년도', '사업명', '사업_부처명', '계속과제여부', '내역사업명', '과제명', '요약문_연구목표',\n",
       "       '요약문_연구내용', '요약문_기대효과', '요약문_한글키워드', '요약문_영문키워드', 'label'],\n",
       "      dtype='object')"
      ]
     },
     "execution_count": 8,
     "metadata": {},
     "output_type": "execute_result"
    }
   ],
   "source": [
    "train.columns"
   ]
  },
  {
   "cell_type": "code",
   "execution_count": 9,
   "metadata": {},
   "outputs": [
    {
     "data": {
      "text/plain": [
       "Index(['index', '제출년도', '사업명', '사업_부처명', '계속과제여부', '내역사업명', '과제명', '요약문_연구목표',\n",
       "       '요약문_연구내용', '요약문_기대효과', '요약문_한글키워드', '요약문_영문키워드'],\n",
       "      dtype='object')"
      ]
     },
     "execution_count": 9,
     "metadata": {},
     "output_type": "execute_result"
    }
   ],
   "source": [
    "test.columns"
   ]
  },
  {
   "cell_type": "code",
   "execution_count": 10,
   "metadata": {},
   "outputs": [
    {
     "name": "stdout",
     "output_type": "stream",
     "text": [
      "(174304, 13)\n",
      "(43576, 12)\n",
      "(43576, 2)\n",
      "(46, 2)\n"
     ]
    }
   ],
   "source": [
    "print(train.shape)\n",
    "print(test.shape)\n",
    "print(sample_submission.shape)\n",
    "print(labels_mapping.shape)"
   ]
  },
  {
   "cell_type": "code",
   "execution_count": 11,
   "metadata": {},
   "outputs": [
    {
     "data": {
      "text/plain": [
       "46"
      ]
     },
     "execution_count": 11,
     "metadata": {},
     "output_type": "execute_result"
    }
   ],
   "source": [
    "train.label.nunique()"
   ]
  },
  {
   "cell_type": "code",
   "execution_count": 12,
   "metadata": {},
   "outputs": [
    {
     "data": {
      "text/plain": [
       "0     142571\n",
       "19      4938\n",
       "24      3520\n",
       "23      1840\n",
       "5       1698\n",
       "14      1672\n",
       "18      1550\n",
       "1       1261\n",
       "45      1137\n",
       "36      1060\n",
       "20      1059\n",
       "29      1028\n",
       "31       922\n",
       "25       810\n",
       "10       658\n",
       "27       620\n",
       "13       575\n",
       "33       533\n",
       "34       523\n",
       "16       506\n",
       "21       496\n",
       "28       449\n",
       "40       441\n",
       "43       351\n",
       "8        339\n",
       "26       316\n",
       "35       291\n",
       "2        275\n",
       "12       268\n",
       "37       266\n",
       "38       262\n",
       "32       260\n",
       "30       234\n",
       "39       202\n",
       "11       200\n",
       "15       165\n",
       "17       154\n",
       "22       148\n",
       "3        143\n",
       "7        113\n",
       "9        106\n",
       "44        91\n",
       "6         78\n",
       "41        67\n",
       "4         57\n",
       "42        51\n",
       "Name: label, dtype: int64"
      ]
     },
     "execution_count": 12,
     "metadata": {},
     "output_type": "execute_result"
    }
   ],
   "source": [
    "train.label.value_counts()"
   ]
  },
  {
   "cell_type": "code",
   "execution_count": 13,
   "metadata": {},
   "outputs": [
    {
     "name": "stdout",
     "output_type": "stream",
     "text": [
      "과제명 길이 최댓값: 229\n",
      "과제명 길이 최솟값: 2\n",
      "과제명 길이 평균값: 35.84252225995961\n",
      "과제명 길이 중간값: 34.0\n"
     ]
    },
    {
     "data": {
      "image/png": "[encoded data removed]",
      "text/plain": [
       "<Figure size 640x480 with 1 Axes>"
      ]
     },
     "metadata": {},
     "output_type": "display_data"
    },
    {
     "data": {
      "image/png": "[encoded data removed]",
      "text/plain": [
       "<Figure size 1200x500 with 1 Axes>"
      ]
     },
     "metadata": {},
     "output_type": "display_data"
    }
   ],
   "source": [
    "length=train['과제명'].astype(str).apply(len)\n",
    "plt.hist(length, bins=50, alpha=0.5, color='r', label='word')\n",
    "plt.title('과제명 길이')\n",
    "plt.figure(figsize=(12, 5))\n",
    "plt.boxplot(length, labels=['counts'], showmeans=True)\n",
    "print('과제명 길이 최댓값: {}'.format(np.max(length)))\n",
    "print('과제명 길이 최솟값: {}'.format(np.min(length)))\n",
    "print('과제명 길이 평균값: {}'.format(np.mean(length)))\n",
    "print('과제명 길이 중간값: {}'.format(np.median(length)))"
   ]
  },
  {
   "cell_type": "code",
   "execution_count": 14,
   "metadata": {},
   "outputs": [
    {
     "name": "stdout",
     "output_type": "stream",
     "text": [
      "요약문_연구목표 길이 최댓값: 3951\n",
      "요약문_연구목표 길이 최솟값: 1\n",
      "요약문_연구목표 길이 평균값: 318.1008066366807\n",
      "요약문_연구목표 길이 중간값: 249.0\n"
     ]
    },
    {
     "data": {
      "image/png": "[encoded data removed]",
      "text/plain": [
       "<Figure size 640x480 with 1 Axes>"
      ]
     },
     "metadata": {},
     "output_type": "display_data"
    },
    {
     "data": {
      "image/png": "[encoded data removed]",
      "text/plain": [
       "<Figure size 1200x500 with 1 Axes>"
      ]
     },
     "metadata": {},
     "output_type": "display_data"
    }
   ],
   "source": [
    "length=train['요약문_연구목표'].astype(str).apply(len)\n",
    "plt.hist(length, bins=50, alpha=0.5, color='r', label='word')\n",
    "plt.title('요약문_연구목표 길이')\n",
    "plt.figure(figsize=(12, 5))\n",
    "plt.boxplot(length, labels=['counts'], showmeans=True)\n",
    "print('요약문_연구목표 길이 최댓값: {}'.format(np.max(length)))\n",
    "print('요약문_연구목표 길이 최솟값: {}'.format(np.min(length)))\n",
    "print('요약문_연구목표 길이 평균값: {}'.format(np.mean(length)))\n",
    "print('요약문_연구목표 길이 중간값: {}'.format(np.median(length)))"
   ]
  },
  {
   "cell_type": "code",
   "execution_count": 15,
   "metadata": {},
   "outputs": [
    {
     "name": "stdout",
     "output_type": "stream",
     "text": [
      "요약문_연구내용 길이 최댓값: 3999\n",
      "요약문_연구내용 길이 최솟값: 1\n",
      "요약문_연구내용 길이 평균값: 699.2930282724435\n",
      "요약문_연구내용 길이 중간값: 597.0\n"
     ]
    },
    {
     "data": {
      "image/png": "[encoded data removed]",
      "text/plain": [
       "<Figure size 640x480 with 1 Axes>"
      ]
     },
     "metadata": {},
     "output_type": "display_data"
    },
    {
     "data": {
      "image/png": "[encoded data removed]",
      "text/plain": [
       "<Figure size 1200x500 with 1 Axes>"
      ]
     },
     "metadata": {},
     "output_type": "display_data"
    }
   ],
   "source": [
    "length=train['요약문_연구내용'].astype(str).apply(len)\n",
    "plt.hist(length, bins=50, alpha=0.5, color='r', label='word')\n",
    "plt.title('요약문_연구내용 길이')\n",
    "plt.figure(figsize=(12, 5))\n",
    "plt.boxplot(length, labels=['counts'], showmeans=True)\n",
    "print('요약문_연구내용 길이 최댓값: {}'.format(np.max(length)))\n",
    "print('요약문_연구내용 길이 최솟값: {}'.format(np.min(length)))\n",
    "print('요약문_연구내용 길이 평균값: {}'.format(np.mean(length)))\n",
    "print('요약문_연구내용 길이 중간값: {}'.format(np.median(length)))"
   ]
  },
  {
   "cell_type": "code",
   "execution_count": 16,
   "metadata": {},
   "outputs": [
    {
     "name": "stdout",
     "output_type": "stream",
     "text": [
      "요약문_기대효과 길이 최댓값: 3649\n",
      "요약문_기대효과 길이 최솟값: 1\n",
      "요약문_기대효과 길이 평균값: 400.4864374885258\n",
      "요약문_기대효과 길이 중간값: 329.0\n"
     ]
    },
    {
     "data": {
      "image/png": "[encoded data removed]",
      "text/plain": [
       "<Figure size 640x480 with 1 Axes>"
      ]
     },
     "metadata": {},
     "output_type": "display_data"
    },
    {
     "data": {
      "image/png": "[encoded data removed]",
      "text/plain": [
       "<Figure size 1200x500 with 1 Axes>"
      ]
     },
     "metadata": {},
     "output_type": "display_data"
    }
   ],
   "source": [
    "length=train['요약문_기대효과'].astype(str).apply(len)\n",
    "plt.hist(length, bins=50, alpha=0.5, color='r', label='word')\n",
    "plt.title('요약문_기대효과 길이')\n",
    "plt.figure(figsize=(12, 5))\n",
    "plt.boxplot(length, labels=['counts'], showmeans=True)\n",
    "print('요약문_기대효과 길이 최댓값: {}'.format(np.max(length)))\n",
    "print('요약문_기대효과 길이 최솟값: {}'.format(np.min(length)))\n",
    "print('요약문_기대효과 길이 평균값: {}'.format(np.mean(length)))\n",
    "print('요약문_기대효과 길이 중간값: {}'.format(np.median(length)))"
   ]
  },
  {
   "attachments": {},
   "cell_type": "markdown",
   "metadata": {},
   "source": [
    "## 데이터 전처리"
   ]
  },
  {
   "cell_type": "code",
   "execution_count": 17,
   "metadata": {},
   "outputs": [],
   "source": [
    "train=train[['사업명', '과제명', '요약문_한글키워드', 'label']]\n",
    "test=test[['사업명', '과제명', '요약문_한글키워드']]"
   ]
  },
  {
   "cell_type": "code",
   "execution_count": 19,
   "metadata": {},
   "outputs": [
    {
     "data": {
      "text/html": [
       "<div>\n",
       "<style scoped>\n",
       "    .dataframe tbody tr th:only-of-type {\n",
       "        vertical-align: middle;\n",
       "    }\n",
       "\n",
       "    .dataframe tbody tr th {\n",
       "        vertical-align: top;\n",
       "    }\n",
       "\n",
       "    .dataframe thead th {\n",
       "        text-align: right;\n",
       "    }\n",
       "</style>\n",
       "<table border=\"1\" class=\"dataframe\">\n",
       "  <thead>\n",
       "    <tr style=\"text-align: right;\">\n",
       "      <th></th>\n",
       "      <th>사업명</th>\n",
       "      <th>과제명</th>\n",
       "      <th>요약문_한글키워드</th>\n",
       "      <th>label</th>\n",
       "    </tr>\n",
       "  </thead>\n",
       "  <tbody>\n",
       "    <tr>\n",
       "      <th>0</th>\n",
       "      <td>농업기초기반연구</td>\n",
       "      <td>유전정보를 활용한 새로운 해충 분류군 동정기술 개발</td>\n",
       "      <td>뉴클레오티드 염기서열, 분자마커, 종 동정, 침샘, 전사체</td>\n",
       "      <td>24</td>\n",
       "    </tr>\n",
       "    <tr>\n",
       "      <th>1</th>\n",
       "      <td>이공학학술연구기반구축(R&amp;D)</td>\n",
       "      <td>대장암의 TRAIL 내성 표적 인자 발굴 및 TRAIL 반응 예측 유전자 지도 구축...</td>\n",
       "      <td>대장암,항암제 내성,세포사멸,유전자발굴</td>\n",
       "      <td>0</td>\n",
       "    </tr>\n",
       "    <tr>\n",
       "      <th>2</th>\n",
       "      <td>중소기업기술혁신개발</td>\n",
       "      <td>비목질계 셀룰로오스 식물자원을 활용한 기능성 부직포 및 고부가가치 뷰티케어 faci...</td>\n",
       "      <td>기능성 샐룰로오스 파이버,천연섬유,기능성 부직포,뷰티&amp;amp;케어 제품,미용 솜</td>\n",
       "      <td>0</td>\n",
       "    </tr>\n",
       "    <tr>\n",
       "      <th>3</th>\n",
       "      <td>창업성장기술개발(R&amp;D)</td>\n",
       "      <td>소화기 암 진단용 분자영상 형광프로브 개발</td>\n",
       "      <td>분자 진단,형광 조영제,프로브,항체,대장암</td>\n",
       "      <td>0</td>\n",
       "    </tr>\n",
       "    <tr>\n",
       "      <th>4</th>\n",
       "      <td>이공학개인기초연구지원</td>\n",
       "      <td>위암환자의 항암제반응예측을 위한 BRCA 발현검사</td>\n",
       "      <td>BRCA,제자리부합법,조직미세배열,마이크로RNA,위암,항암제반응,젊은 연령/가족성 위암</td>\n",
       "      <td>0</td>\n",
       "    </tr>\n",
       "  </tbody>\n",
       "</table>\n",
       "</div>"
      ],
      "text/plain": [
       "                사업명                                                과제명  \\\n",
       "0          농업기초기반연구                       유전정보를 활용한 새로운 해충 분류군 동정기술 개발   \n",
       "1  이공학학술연구기반구축(R&D)  대장암의 TRAIL 내성 표적 인자 발굴 및 TRAIL 반응 예측 유전자 지도 구축...   \n",
       "2        중소기업기술혁신개발  비목질계 셀룰로오스 식물자원을 활용한 기능성 부직포 및 고부가가치 뷰티케어 faci...   \n",
       "3     창업성장기술개발(R&D)                            소화기 암 진단용 분자영상 형광프로브 개발   \n",
       "4       이공학개인기초연구지원                        위암환자의 항암제반응예측을 위한 BRCA 발현검사   \n",
       "\n",
       "                                          요약문_한글키워드  label  \n",
       "0                  뉴클레오티드 염기서열, 분자마커, 종 동정, 침샘, 전사체     24  \n",
       "1                             대장암,항암제 내성,세포사멸,유전자발굴      0  \n",
       "2      기능성 샐룰로오스 파이버,천연섬유,기능성 부직포,뷰티&amp;케어 제품,미용 솜      0  \n",
       "3                           분자 진단,형광 조영제,프로브,항체,대장암      0  \n",
       "4  BRCA,제자리부합법,조직미세배열,마이크로RNA,위암,항암제반응,젊은 연령/가족성 위암      0  "
      ]
     },
     "execution_count": 19,
     "metadata": {},
     "output_type": "execute_result"
    }
   ],
   "source": [
    "train.head()"
   ]
  },
  {
   "cell_type": "code",
   "execution_count": 20,
   "metadata": {},
   "outputs": [
    {
     "data": {
      "text/html": [
       "<div>\n",
       "<style scoped>\n",
       "    .dataframe tbody tr th:only-of-type {\n",
       "        vertical-align: middle;\n",
       "    }\n",
       "\n",
       "    .dataframe tbody tr th {\n",
       "        vertical-align: top;\n",
       "    }\n",
       "\n",
       "    .dataframe thead th {\n",
       "        text-align: right;\n",
       "    }\n",
       "</style>\n",
       "<table border=\"1\" class=\"dataframe\">\n",
       "  <thead>\n",
       "    <tr style=\"text-align: right;\">\n",
       "      <th></th>\n",
       "      <th>사업명</th>\n",
       "      <th>과제명</th>\n",
       "      <th>요약문_한글키워드</th>\n",
       "    </tr>\n",
       "  </thead>\n",
       "  <tbody>\n",
       "    <tr>\n",
       "      <th>0</th>\n",
       "      <td>경제협력권산업육성</td>\n",
       "      <td>R-FSSW 기술 적용 경량 차체 부품 개발 및 품질 평가를 위한 64채널 C-SC...</td>\n",
       "      <td>마찰교반점용접, 비파괴 검사, 초음파 탐상, 씨 스캔, 용접 품질 평가</td>\n",
       "    </tr>\n",
       "    <tr>\n",
       "      <th>1</th>\n",
       "      <td>개인기초연구(과기정통부)(R&amp;D)</td>\n",
       "      <td>다입자계를 묘사하는 편미분방정식에 대한 연구</td>\n",
       "      <td>다체계 방정식,동역학의 안정성,양자역학,고전역학,평균장 극한,고전극한,비상대론적 극한</td>\n",
       "    </tr>\n",
       "    <tr>\n",
       "      <th>2</th>\n",
       "      <td>개인기초연구(미래부)</td>\n",
       "      <td>저출생체중아 가족을 위한 지역사회중심의 퇴원후 추후관리프로그램 개발</td>\n",
       "      <td>저출생체중아,추후관리,조기개입,자조모임,가정방문</td>\n",
       "    </tr>\n",
       "    <tr>\n",
       "      <th>3</th>\n",
       "      <td>산학연협력기술개발(R&amp;D)</td>\n",
       "      <td>폴리싱용 5축 CNC 정밀 마이크로 시스템 개발</td>\n",
       "      <td>초정밀가공,폴리싱 가공,마이크로,경면가공,난삭재가공</td>\n",
       "    </tr>\n",
       "    <tr>\n",
       "      <th>4</th>\n",
       "      <td>이공학학술연구기반구축(R&amp;D)</td>\n",
       "      <td>다결정재료의 미세조직구조를 고려한 확률론적 응력부식균열 생성예측모델 개발</td>\n",
       "      <td>결정구조,응력부식균열,확률론적모델</td>\n",
       "    </tr>\n",
       "  </tbody>\n",
       "</table>\n",
       "</div>"
      ],
      "text/plain": [
       "                  사업명                                                과제명  \\\n",
       "0           경제협력권산업육성  R-FSSW 기술 적용 경량 차체 부품 개발 및 품질 평가를 위한 64채널 C-SC...   \n",
       "1  개인기초연구(과기정통부)(R&D)                           다입자계를 묘사하는 편미분방정식에 대한 연구   \n",
       "2         개인기초연구(미래부)              저출생체중아 가족을 위한 지역사회중심의 퇴원후 추후관리프로그램 개발   \n",
       "3      산학연협력기술개발(R&D)                         폴리싱용 5축 CNC 정밀 마이크로 시스템 개발   \n",
       "4    이공학학술연구기반구축(R&D)           다결정재료의 미세조직구조를 고려한 확률론적 응력부식균열 생성예측모델 개발   \n",
       "\n",
       "                                         요약문_한글키워드  \n",
       "0          마찰교반점용접, 비파괴 검사, 초음파 탐상, 씨 스캔, 용접 품질 평가  \n",
       "1  다체계 방정식,동역학의 안정성,양자역학,고전역학,평균장 극한,고전극한,비상대론적 극한  \n",
       "2                       저출생체중아,추후관리,조기개입,자조모임,가정방문  \n",
       "3                     초정밀가공,폴리싱 가공,마이크로,경면가공,난삭재가공  \n",
       "4                               결정구조,응력부식균열,확률론적모델  "
      ]
     },
     "execution_count": 20,
     "metadata": {},
     "output_type": "execute_result"
    }
   ],
   "source": [
    "test.head()"
   ]
  },
  {
   "cell_type": "code",
   "execution_count": 26,
   "metadata": {},
   "outputs": [
    {
     "data": {
      "text/html": [
       "<div>\n",
       "<style scoped>\n",
       "    .dataframe tbody tr th:only-of-type {\n",
       "        vertical-align: middle;\n",
       "    }\n",
       "\n",
       "    .dataframe tbody tr th {\n",
       "        vertical-align: top;\n",
       "    }\n",
       "\n",
       "    .dataframe thead th {\n",
       "        text-align: right;\n",
       "    }\n",
       "</style>\n",
       "<table border=\"1\" class=\"dataframe\">\n",
       "  <thead>\n",
       "    <tr style=\"text-align: right;\">\n",
       "      <th></th>\n",
       "      <th>사업명</th>\n",
       "      <th>과제명</th>\n",
       "      <th>요약문_한글키워드</th>\n",
       "      <th>label</th>\n",
       "      <th>text</th>\n",
       "    </tr>\n",
       "  </thead>\n",
       "  <tbody>\n",
       "    <tr>\n",
       "      <th>0</th>\n",
       "      <td>농업기초기반연구</td>\n",
       "      <td>유전정보를 활용한 새로운 해충 분류군 동정기술 개발</td>\n",
       "      <td>뉴클레오티드 염기서열, 분자마커, 종 동정, 침샘, 전사체</td>\n",
       "      <td>24</td>\n",
       "      <td>농업기초기반연구 유전정보를 활용한 새로운 해충 분류군 동정기술 개발 뉴클레오티드 염...</td>\n",
       "    </tr>\n",
       "    <tr>\n",
       "      <th>1</th>\n",
       "      <td>이공학학술연구기반구축(R&amp;D)</td>\n",
       "      <td>대장암의 TRAIL 내성 표적 인자 발굴 및 TRAIL 반응 예측 유전자 지도 구축...</td>\n",
       "      <td>대장암,항암제 내성,세포사멸,유전자발굴</td>\n",
       "      <td>0</td>\n",
       "      <td>이공학학술연구기반구축(R&amp;D) 대장암의 TRAIL 내성 표적 인자 발굴 및 TRAI...</td>\n",
       "    </tr>\n",
       "    <tr>\n",
       "      <th>2</th>\n",
       "      <td>중소기업기술혁신개발</td>\n",
       "      <td>비목질계 셀룰로오스 식물자원을 활용한 기능성 부직포 및 고부가가치 뷰티케어 faci...</td>\n",
       "      <td>기능성 샐룰로오스 파이버,천연섬유,기능성 부직포,뷰티&amp;amp;케어 제품,미용 솜</td>\n",
       "      <td>0</td>\n",
       "      <td>중소기업기술혁신개발 비목질계 셀룰로오스 식물자원을 활용한 기능성 부직포 및 고부가가...</td>\n",
       "    </tr>\n",
       "    <tr>\n",
       "      <th>3</th>\n",
       "      <td>창업성장기술개발(R&amp;D)</td>\n",
       "      <td>소화기 암 진단용 분자영상 형광프로브 개발</td>\n",
       "      <td>분자 진단,형광 조영제,프로브,항체,대장암</td>\n",
       "      <td>0</td>\n",
       "      <td>창업성장기술개발(R&amp;D) 소화기 암 진단용 분자영상 형광프로브 개발 분자 진단,형광...</td>\n",
       "    </tr>\n",
       "    <tr>\n",
       "      <th>4</th>\n",
       "      <td>이공학개인기초연구지원</td>\n",
       "      <td>위암환자의 항암제반응예측을 위한 BRCA 발현검사</td>\n",
       "      <td>BRCA,제자리부합법,조직미세배열,마이크로RNA,위암,항암제반응,젊은 연령/가족성 위암</td>\n",
       "      <td>0</td>\n",
       "      <td>이공학개인기초연구지원 위암환자의 항암제반응예측을 위한 BRCA 발현검사 BRCA,제...</td>\n",
       "    </tr>\n",
       "  </tbody>\n",
       "</table>\n",
       "</div>"
      ],
      "text/plain": [
       "                사업명                                                과제명  \\\n",
       "0          농업기초기반연구                       유전정보를 활용한 새로운 해충 분류군 동정기술 개발   \n",
       "1  이공학학술연구기반구축(R&D)  대장암의 TRAIL 내성 표적 인자 발굴 및 TRAIL 반응 예측 유전자 지도 구축...   \n",
       "2        중소기업기술혁신개발  비목질계 셀룰로오스 식물자원을 활용한 기능성 부직포 및 고부가가치 뷰티케어 faci...   \n",
       "3     창업성장기술개발(R&D)                            소화기 암 진단용 분자영상 형광프로브 개발   \n",
       "4       이공학개인기초연구지원                        위암환자의 항암제반응예측을 위한 BRCA 발현검사   \n",
       "\n",
       "                                          요약문_한글키워드  label  \\\n",
       "0                  뉴클레오티드 염기서열, 분자마커, 종 동정, 침샘, 전사체     24   \n",
       "1                             대장암,항암제 내성,세포사멸,유전자발굴      0   \n",
       "2      기능성 샐룰로오스 파이버,천연섬유,기능성 부직포,뷰티&amp;케어 제품,미용 솜      0   \n",
       "3                           분자 진단,형광 조영제,프로브,항체,대장암      0   \n",
       "4  BRCA,제자리부합법,조직미세배열,마이크로RNA,위암,항암제반응,젊은 연령/가족성 위암      0   \n",
       "\n",
       "                                                text  \n",
       "0  농업기초기반연구 유전정보를 활용한 새로운 해충 분류군 동정기술 개발 뉴클레오티드 염...  \n",
       "1  이공학학술연구기반구축(R&D) 대장암의 TRAIL 내성 표적 인자 발굴 및 TRAI...  \n",
       "2  중소기업기술혁신개발 비목질계 셀룰로오스 식물자원을 활용한 기능성 부직포 및 고부가가...  \n",
       "3  창업성장기술개발(R&D) 소화기 암 진단용 분자영상 형광프로브 개발 분자 진단,형광...  \n",
       "4  이공학개인기초연구지원 위암환자의 항암제반응예측을 위한 BRCA 발현검사 BRCA,제...  "
      ]
     },
     "execution_count": 26,
     "metadata": {},
     "output_type": "execute_result"
    }
   ],
   "source": [
    "train['text'] = train['사업명'] + \" \" + train['과제명'] + \" \" + train['요약문_한글키워드']\n",
    "train.head()"
   ]
  },
  {
   "cell_type": "code",
   "execution_count": 27,
   "metadata": {},
   "outputs": [
    {
     "data": {
      "text/html": [
       "<div>\n",
       "<style scoped>\n",
       "    .dataframe tbody tr th:only-of-type {\n",
       "        vertical-align: middle;\n",
       "    }\n",
       "\n",
       "    .dataframe tbody tr th {\n",
       "        vertical-align: top;\n",
       "    }\n",
       "\n",
       "    .dataframe thead th {\n",
       "        text-align: right;\n",
       "    }\n",
       "</style>\n",
       "<table border=\"1\" class=\"dataframe\">\n",
       "  <thead>\n",
       "    <tr style=\"text-align: right;\">\n",
       "      <th></th>\n",
       "      <th>사업명</th>\n",
       "      <th>과제명</th>\n",
       "      <th>요약문_한글키워드</th>\n",
       "      <th>text</th>\n",
       "    </tr>\n",
       "  </thead>\n",
       "  <tbody>\n",
       "    <tr>\n",
       "      <th>0</th>\n",
       "      <td>경제협력권산업육성</td>\n",
       "      <td>R-FSSW 기술 적용 경량 차체 부품 개발 및 품질 평가를 위한 64채널 C-SC...</td>\n",
       "      <td>마찰교반점용접, 비파괴 검사, 초음파 탐상, 씨 스캔, 용접 품질 평가</td>\n",
       "      <td>경제협력권산업육성 R-FSSW 기술 적용 경량 차체 부품 개발 및 품질 평가를 위한...</td>\n",
       "    </tr>\n",
       "    <tr>\n",
       "      <th>1</th>\n",
       "      <td>개인기초연구(과기정통부)(R&amp;D)</td>\n",
       "      <td>다입자계를 묘사하는 편미분방정식에 대한 연구</td>\n",
       "      <td>다체계 방정식,동역학의 안정성,양자역학,고전역학,평균장 극한,고전극한,비상대론적 극한</td>\n",
       "      <td>개인기초연구(과기정통부)(R&amp;D) 다입자계를 묘사하는 편미분방정식에 대한 연구 다체...</td>\n",
       "    </tr>\n",
       "    <tr>\n",
       "      <th>2</th>\n",
       "      <td>개인기초연구(미래부)</td>\n",
       "      <td>저출생체중아 가족을 위한 지역사회중심의 퇴원후 추후관리프로그램 개발</td>\n",
       "      <td>저출생체중아,추후관리,조기개입,자조모임,가정방문</td>\n",
       "      <td>개인기초연구(미래부) 저출생체중아 가족을 위한 지역사회중심의 퇴원후 추후관리프로그램...</td>\n",
       "    </tr>\n",
       "    <tr>\n",
       "      <th>3</th>\n",
       "      <td>산학연협력기술개발(R&amp;D)</td>\n",
       "      <td>폴리싱용 5축 CNC 정밀 마이크로 시스템 개발</td>\n",
       "      <td>초정밀가공,폴리싱 가공,마이크로,경면가공,난삭재가공</td>\n",
       "      <td>산학연협력기술개발(R&amp;D) 폴리싱용 5축 CNC 정밀 마이크로 시스템 개발 초정밀가...</td>\n",
       "    </tr>\n",
       "    <tr>\n",
       "      <th>4</th>\n",
       "      <td>이공학학술연구기반구축(R&amp;D)</td>\n",
       "      <td>다결정재료의 미세조직구조를 고려한 확률론적 응력부식균열 생성예측모델 개발</td>\n",
       "      <td>결정구조,응력부식균열,확률론적모델</td>\n",
       "      <td>이공학학술연구기반구축(R&amp;D) 다결정재료의 미세조직구조를 고려한 확률론적 응력부식균...</td>\n",
       "    </tr>\n",
       "  </tbody>\n",
       "</table>\n",
       "</div>"
      ],
      "text/plain": [
       "                  사업명                                                과제명  \\\n",
       "0           경제협력권산업육성  R-FSSW 기술 적용 경량 차체 부품 개발 및 품질 평가를 위한 64채널 C-SC...   \n",
       "1  개인기초연구(과기정통부)(R&D)                           다입자계를 묘사하는 편미분방정식에 대한 연구   \n",
       "2         개인기초연구(미래부)              저출생체중아 가족을 위한 지역사회중심의 퇴원후 추후관리프로그램 개발   \n",
       "3      산학연협력기술개발(R&D)                         폴리싱용 5축 CNC 정밀 마이크로 시스템 개발   \n",
       "4    이공학학술연구기반구축(R&D)           다결정재료의 미세조직구조를 고려한 확률론적 응력부식균열 생성예측모델 개발   \n",
       "\n",
       "                                         요약문_한글키워드  \\\n",
       "0          마찰교반점용접, 비파괴 검사, 초음파 탐상, 씨 스캔, 용접 품질 평가   \n",
       "1  다체계 방정식,동역학의 안정성,양자역학,고전역학,평균장 극한,고전극한,비상대론적 극한   \n",
       "2                       저출생체중아,추후관리,조기개입,자조모임,가정방문   \n",
       "3                     초정밀가공,폴리싱 가공,마이크로,경면가공,난삭재가공   \n",
       "4                               결정구조,응력부식균열,확률론적모델   \n",
       "\n",
       "                                                text  \n",
       "0  경제협력권산업육성 R-FSSW 기술 적용 경량 차체 부품 개발 및 품질 평가를 위한...  \n",
       "1  개인기초연구(과기정통부)(R&D) 다입자계를 묘사하는 편미분방정식에 대한 연구 다체...  \n",
       "2  개인기초연구(미래부) 저출생체중아 가족을 위한 지역사회중심의 퇴원후 추후관리프로그램...  \n",
       "3  산학연협력기술개발(R&D) 폴리싱용 5축 CNC 정밀 마이크로 시스템 개발 초정밀가...  \n",
       "4  이공학학술연구기반구축(R&D) 다결정재료의 미세조직구조를 고려한 확률론적 응력부식균...  "
      ]
     },
     "execution_count": 27,
     "metadata": {},
     "output_type": "execute_result"
    }
   ],
   "source": [
    "test['text'] = test['사업명'] + \" \" + test['과제명'] + \" \" + test['요약문_한글키워드']\n",
    "test.head()"
   ]
  },
  {
   "cell_type": "code",
   "execution_count": 30,
   "metadata": {},
   "outputs": [],
   "source": [
    "def preprocessing(text, okt, remove_stopwords=False, stop_words=[]):\n",
    "    text = re.sub(\"[^가-힣ㄱ-하-ㅣ ]\", \"\", text)\n",
    "    word_text = okt.morphs(text, stem=True)\n",
    "    if remove_stopwords:\n",
    "        word_review = [token for token in word_text if not token in stop_words]\n",
    "    return word_review"
   ]
  },
  {
   "cell_type": "code",
   "execution_count": 31,
   "metadata": {},
   "outputs": [],
   "source": [
    "stop_words=['은','는','이','가', '하','아','것','들','의','있','되','수','보','주','등','한']\n",
    "okt=Okt()\n",
    "clean_train_text=[]\n",
    "clean_test_text=[]"
   ]
  },
  {
   "cell_type": "code",
   "execution_count": 32,
   "metadata": {},
   "outputs": [
    {
     "name": "stderr",
     "output_type": "stream",
     "text": [
      "100%|██████████| 174304/174304 [17:30<00:00, 166.00it/s]\n"
     ]
    }
   ],
   "source": [
    "for text in tqdm.tqdm(train['text']):\n",
    "    try:\n",
    "        clean_train_text.append(preprocessing(text, okt, remove_stopwords=True, stop_words=stop_words))\n",
    "    except:\n",
    "        clean_train_text.append([])"
   ]
  },
  {
   "cell_type": "code",
   "execution_count": 33,
   "metadata": {},
   "outputs": [
    {
     "name": "stderr",
     "output_type": "stream",
     "text": [
      "100%|██████████| 43576/43576 [04:56<00:00, 147.12it/s]\n"
     ]
    }
   ],
   "source": [
    "for text in tqdm.tqdm(test['text']):\n",
    "    if type(text) == str:\n",
    "        clean_test_text.append(preprocessing(text, okt, remove_stopwords=True, stop_words=stop_words))\n",
    "    else:\n",
    "        clean_test_text.append([])"
   ]
  },
  {
   "cell_type": "code",
   "execution_count": 34,
   "metadata": {},
   "outputs": [
    {
     "name": "stdout",
     "output_type": "stream",
     "text": [
      "174304\n",
      "43576\n"
     ]
    }
   ],
   "source": [
    "print(len(clean_train_text))\n",
    "print(len(clean_test_text))"
   ]
  },
  {
   "cell_type": "code",
   "execution_count": 50,
   "metadata": {},
   "outputs": [
    {
     "data": {
      "text/plain": [
       "28.902847897925465"
      ]
     },
     "execution_count": 50,
     "metadata": {},
     "output_type": "execute_result"
    }
   ],
   "source": [
    "average = 0\n",
    "for i in range(0, len(clean_train_text)):\n",
    "    average = average + len(clean_train_text[i])\n",
    "\n",
    "average = average/len(clean_train_text)\n",
    "average"
   ]
  },
  {
   "cell_type": "code",
   "execution_count": 51,
   "metadata": {},
   "outputs": [],
   "source": [
    "tokenizer=Tokenizer()\n",
    "tokenizer.fit_on_texts(clean_train_text)\n",
    "\n",
    "train_sequences=tokenizer.texts_to_sequences(clean_train_text)\n",
    "test_sequences=tokenizer.texts_to_sequences(clean_test_text)\n",
    "word_vocab=tokenizer.word_index\n",
    "\n",
    "train_inputs=pad_sequences(train_sequences, maxlen=40, padding='post')\n",
    "test_inputs=pad_sequences(test_sequences, maxlen=40, padding='post')"
   ]
  },
  {
   "cell_type": "code",
   "execution_count": 52,
   "metadata": {},
   "outputs": [
    {
     "name": "stdout",
     "output_type": "stream",
     "text": [
      "(174304, 40)\n",
      "(43576, 40)\n"
     ]
    }
   ],
   "source": [
    "print(train_inputs.shape)\n",
    "print(test_inputs.shape)"
   ]
  },
  {
   "cell_type": "code",
   "execution_count": 53,
   "metadata": {},
   "outputs": [
    {
     "data": {
      "text/plain": [
       "46"
      ]
     },
     "execution_count": 53,
     "metadata": {},
     "output_type": "execute_result"
    }
   ],
   "source": [
    "labels=np.array(train['label'])\n",
    "len(set(labels))"
   ]
  },
  {
   "cell_type": "code",
   "execution_count": 54,
   "metadata": {},
   "outputs": [],
   "source": [
    "DATA_IN_PATH='./data/'\n",
    "TRAIN_INPUT_DATA = 'train_input.npy'\n",
    "TEST_INPUT_DATA = 'test_input.npy'\n",
    "\n",
    "import os\n",
    "if not os.path.exists(DATA_IN_PATH):\n",
    "    os.makedirs(DATA_IN_PATH)\n",
    "    \n",
    "np.save(open(DATA_IN_PATH+TRAIN_INPUT_DATA, 'wb'), train_inputs)\n",
    "np.save(open(DATA_IN_PATH+TEST_INPUT_DATA, 'wb'), test_inputs)\n",
    "\n",
    "data_configs={}\n",
    "data_configs['vocab']=word_vocab\n",
    "data_configs['vocab_size'] = len(word_vocab)+1\n",
    "json.dump(data_configs, open(DATA_IN_PATH+'data_configs.json', 'w'), ensure_ascii=False)"
   ]
  },
  {
   "attachments": {},
   "cell_type": "markdown",
   "metadata": {},
   "source": [
    "## 모델링 및 학습"
   ]
  },
  {
   "cell_type": "code",
   "execution_count": 65,
   "metadata": {},
   "outputs": [],
   "source": [
    "vocab_size =data_configs['vocab_size']\n",
    "embedding_dim = 32\n",
    "max_length = 40\n",
    "oov_tok = \"<OOV>\""
   ]
  },
  {
   "cell_type": "code",
   "execution_count": 68,
   "metadata": {},
   "outputs": [
    {
     "name": "stdout",
     "output_type": "stream",
     "text": [
      "Model: \"sequential_6\"\n",
      "_________________________________________________________________\n",
      " Layer (type)                Output Shape              Param #   \n",
      "=================================================================\n",
      " embedding_6 (Embedding)     (None, 40, 32)            1306400   \n",
      "                                                                 \n",
      " global_average_pooling1d_6   (None, 32)               0         \n",
      " (GlobalAveragePooling1D)                                        \n",
      "                                                                 \n",
      " dense_6 (Dense)             (None, 128)               4224      \n",
      "                                                                 \n",
      " dense_7 (Dense)             (None, 46)                5934      \n",
      "                                                                 \n",
      "=================================================================\n",
      "Total params: 1,316,558\n",
      "Trainable params: 1,316,558\n",
      "Non-trainable params: 0\n",
      "_________________________________________________________________\n",
      "None\n"
     ]
    }
   ],
   "source": [
    "model = tf.keras.Sequential([\n",
    "    tf.keras.layers.Embedding(vocab_size, embedding_dim, input_length=max_length),\n",
    "    tf.keras.layers.GlobalAveragePooling1D(),\n",
    "    tf.keras.layers.Dense(128, activation='relu'),\n",
    "    tf.keras.layers.Dense(46, activation='softmax')\n",
    "])\n",
    "\n",
    "model.compile(loss='sparse_categorical_crossentropy',\n",
    "              optimizer='adam',\n",
    "              metrics=['accuracy'])\n",
    "\n",
    "print(model.summary())"
   ]
  },
  {
   "cell_type": "code",
   "execution_count": 69,
   "metadata": {},
   "outputs": [],
   "source": [
    "from keras.callbacks import EarlyStopping\n",
    "early_stop = EarlyStopping(monitor='val_loss', patience=5)"
   ]
  },
  {
   "cell_type": "code",
   "execution_count": 70,
   "metadata": {},
   "outputs": [
    {
     "name": "stdout",
     "output_type": "stream",
     "text": [
      "Epoch 1/100\n",
      "   1/4358 [..............................] - ETA: 28:06 - loss: 3.8328 - accuracy: 0.0000e+00"
     ]
    },
    {
     "name": "stderr",
     "output_type": "stream",
     "text": [
      "2022-12-19 01:39:20.850715: I tensorflow/core/grappler/optimizers/custom_graph_optimizer_registry.cc:114] Plugin optimizer for device_type GPU is enabled.\n"
     ]
    },
    {
     "name": "stdout",
     "output_type": "stream",
     "text": [
      "4358/4358 [==============================] - ETA: 0s - loss: 0.7462 - accuracy: 0.8393"
     ]
    },
    {
     "name": "stderr",
     "output_type": "stream",
     "text": [
      "2022-12-19 01:40:06.638080: I tensorflow/core/grappler/optimizers/custom_graph_optimizer_registry.cc:114] Plugin optimizer for device_type GPU is enabled.\n"
     ]
    },
    {
     "name": "stdout",
     "output_type": "stream",
     "text": [
      "4358/4358 [==============================] - 50s 11ms/step - loss: 0.7462 - accuracy: 0.8393 - val_loss: 0.5383 - val_accuracy: 0.8605\n",
      "Epoch 2/100\n",
      "4358/4358 [==============================] - 49s 11ms/step - loss: 0.4187 - accuracy: 0.8842 - val_loss: 0.4278 - val_accuracy: 0.8821\n",
      "Epoch 3/100\n",
      "4358/4358 [==============================] - 52s 12ms/step - loss: 0.3060 - accuracy: 0.9092 - val_loss: 0.3826 - val_accuracy: 0.8933\n",
      "Epoch 4/100\n",
      "4358/4358 [==============================] - 50s 11ms/step - loss: 0.2430 - accuracy: 0.9261 - val_loss: 0.3640 - val_accuracy: 0.8998\n",
      "Epoch 5/100\n",
      "4358/4358 [==============================] - 51s 12ms/step - loss: 0.2010 - accuracy: 0.9382 - val_loss: 0.3646 - val_accuracy: 0.9044\n",
      "Epoch 6/100\n",
      "4358/4358 [==============================] - 52s 12ms/step - loss: 0.1697 - accuracy: 0.9467 - val_loss: 0.3781 - val_accuracy: 0.9072\n",
      "Epoch 7/100\n",
      "4358/4358 [==============================] - 50s 12ms/step - loss: 0.1462 - accuracy: 0.9536 - val_loss: 0.3959 - val_accuracy: 0.9091\n",
      "Epoch 8/100\n",
      "4358/4358 [==============================] - 51s 12ms/step - loss: 0.1268 - accuracy: 0.9597 - val_loss: 0.4041 - val_accuracy: 0.9069\n",
      "Epoch 9/100\n",
      "4358/4358 [==============================] - 49s 11ms/step - loss: 0.1114 - accuracy: 0.9645 - val_loss: 0.4210 - val_accuracy: 0.9104\n"
     ]
    }
   ],
   "source": [
    "num_epochs = 100\n",
    "history = model.fit(train_inputs, labels, \n",
    "                    epochs=num_epochs, callbacks=[early_stop],\n",
    "                    validation_split=0.2)"
   ]
  },
  {
   "cell_type": "code",
   "execution_count": 71,
   "metadata": {},
   "outputs": [
    {
     "data": {
      "text/html": [
       "<div>\n",
       "<style scoped>\n",
       "    .dataframe tbody tr th:only-of-type {\n",
       "        vertical-align: middle;\n",
       "    }\n",
       "\n",
       "    .dataframe tbody tr th {\n",
       "        vertical-align: top;\n",
       "    }\n",
       "\n",
       "    .dataframe thead th {\n",
       "        text-align: right;\n",
       "    }\n",
       "</style>\n",
       "<table border=\"1\" class=\"dataframe\">\n",
       "  <thead>\n",
       "    <tr style=\"text-align: right;\">\n",
       "      <th></th>\n",
       "      <th>loss</th>\n",
       "      <th>accuracy</th>\n",
       "      <th>val_loss</th>\n",
       "      <th>val_accuracy</th>\n",
       "    </tr>\n",
       "  </thead>\n",
       "  <tbody>\n",
       "    <tr>\n",
       "      <th>0</th>\n",
       "      <td>0.746151</td>\n",
       "      <td>0.839275</td>\n",
       "      <td>0.538253</td>\n",
       "      <td>0.860532</td>\n",
       "    </tr>\n",
       "    <tr>\n",
       "      <th>1</th>\n",
       "      <td>0.418728</td>\n",
       "      <td>0.884239</td>\n",
       "      <td>0.427800</td>\n",
       "      <td>0.882103</td>\n",
       "    </tr>\n",
       "    <tr>\n",
       "      <th>2</th>\n",
       "      <td>0.306030</td>\n",
       "      <td>0.909225</td>\n",
       "      <td>0.382609</td>\n",
       "      <td>0.893262</td>\n",
       "    </tr>\n",
       "    <tr>\n",
       "      <th>3</th>\n",
       "      <td>0.243046</td>\n",
       "      <td>0.926135</td>\n",
       "      <td>0.363965</td>\n",
       "      <td>0.899773</td>\n",
       "    </tr>\n",
       "    <tr>\n",
       "      <th>4</th>\n",
       "      <td>0.201002</td>\n",
       "      <td>0.938161</td>\n",
       "      <td>0.364555</td>\n",
       "      <td>0.904449</td>\n",
       "    </tr>\n",
       "    <tr>\n",
       "      <th>5</th>\n",
       "      <td>0.169732</td>\n",
       "      <td>0.946688</td>\n",
       "      <td>0.378113</td>\n",
       "      <td>0.907174</td>\n",
       "    </tr>\n",
       "    <tr>\n",
       "      <th>6</th>\n",
       "      <td>0.146208</td>\n",
       "      <td>0.953644</td>\n",
       "      <td>0.395911</td>\n",
       "      <td>0.909067</td>\n",
       "    </tr>\n",
       "    <tr>\n",
       "      <th>7</th>\n",
       "      <td>0.126775</td>\n",
       "      <td>0.959654</td>\n",
       "      <td>0.404095</td>\n",
       "      <td>0.906945</td>\n",
       "    </tr>\n",
       "    <tr>\n",
       "      <th>8</th>\n",
       "      <td>0.111351</td>\n",
       "      <td>0.964466</td>\n",
       "      <td>0.420978</td>\n",
       "      <td>0.910358</td>\n",
       "    </tr>\n",
       "  </tbody>\n",
       "</table>\n",
       "</div>"
      ],
      "text/plain": [
       "       loss  accuracy  val_loss  val_accuracy\n",
       "0  0.746151  0.839275  0.538253      0.860532\n",
       "1  0.418728  0.884239  0.427800      0.882103\n",
       "2  0.306030  0.909225  0.382609      0.893262\n",
       "3  0.243046  0.926135  0.363965      0.899773\n",
       "4  0.201002  0.938161  0.364555      0.904449\n",
       "5  0.169732  0.946688  0.378113      0.907174\n",
       "6  0.146208  0.953644  0.395911      0.909067\n",
       "7  0.126775  0.959654  0.404095      0.906945\n",
       "8  0.111351  0.964466  0.420978      0.910358"
      ]
     },
     "execution_count": 71,
     "metadata": {},
     "output_type": "execute_result"
    }
   ],
   "source": [
    "df_hist = pd.DataFrame(history.history)\n",
    "df_hist"
   ]
  },
  {
   "cell_type": "code",
   "execution_count": 72,
   "metadata": {},
   "outputs": [
    {
     "data": {
      "text/plain": [
       "<AxesSubplot:>"
      ]
     },
     "execution_count": 72,
     "metadata": {},
     "output_type": "execute_result"
    },
    {
     "data": {
      "image/png": "[encoded data removed]",
      "text/plain": [
       "<Figure size 1000x1200 with 2 Axes>"
      ]
     },
     "metadata": {},
     "output_type": "display_data"
    }
   ],
   "source": [
    "figs, axes = plt.subplots(nrows=2, ncols=1, figsize=(10,12))\n",
    "df_hist[['loss', 'val_loss']].plot(ax=axes[0])\n",
    "df_hist[['accuracy','val_accuracy']].plot(ax=axes[1])"
   ]
  },
  {
   "attachments": {},
   "cell_type": "markdown",
   "metadata": {},
   "source": [
    "## 예측 및 제출"
   ]
  },
  {
   "cell_type": "code",
   "execution_count": 73,
   "metadata": {},
   "outputs": [
    {
     "name": "stdout",
     "output_type": "stream",
     "text": [
      "  23/1362 [..............................] - ETA: 6s"
     ]
    },
    {
     "name": "stderr",
     "output_type": "stream",
     "text": [
      "2022-12-19 01:52:58.778407: I tensorflow/core/grappler/optimizers/custom_graph_optimizer_registry.cc:114] Plugin optimizer for device_type GPU is enabled.\n"
     ]
    },
    {
     "name": "stdout",
     "output_type": "stream",
     "text": [
      "1362/1362 [==============================] - 3s 2ms/step\n"
     ]
    }
   ],
   "source": [
    "pred=model.predict(test_inputs)\n",
    "pred=tf.argmax(pred, axis=1)"
   ]
  },
  {
   "cell_type": "code",
   "execution_count": 74,
   "metadata": {},
   "outputs": [],
   "source": [
    "sample_submission['label']=pred"
   ]
  },
  {
   "cell_type": "code",
   "execution_count": 75,
   "metadata": {},
   "outputs": [
    {
     "data": {
      "text/html": [
       "<div>\n",
       "<style scoped>\n",
       "    .dataframe tbody tr th:only-of-type {\n",
       "        vertical-align: middle;\n",
       "    }\n",
       "\n",
       "    .dataframe tbody tr th {\n",
       "        vertical-align: top;\n",
       "    }\n",
       "\n",
       "    .dataframe thead th {\n",
       "        text-align: right;\n",
       "    }\n",
       "</style>\n",
       "<table border=\"1\" class=\"dataframe\">\n",
       "  <thead>\n",
       "    <tr style=\"text-align: right;\">\n",
       "      <th></th>\n",
       "      <th>index</th>\n",
       "      <th>label</th>\n",
       "    </tr>\n",
       "  </thead>\n",
       "  <tbody>\n",
       "    <tr>\n",
       "      <th>0</th>\n",
       "      <td>174304</td>\n",
       "      <td>0</td>\n",
       "    </tr>\n",
       "    <tr>\n",
       "      <th>1</th>\n",
       "      <td>174305</td>\n",
       "      <td>0</td>\n",
       "    </tr>\n",
       "    <tr>\n",
       "      <th>2</th>\n",
       "      <td>174306</td>\n",
       "      <td>0</td>\n",
       "    </tr>\n",
       "    <tr>\n",
       "      <th>3</th>\n",
       "      <td>174307</td>\n",
       "      <td>0</td>\n",
       "    </tr>\n",
       "    <tr>\n",
       "      <th>4</th>\n",
       "      <td>174308</td>\n",
       "      <td>0</td>\n",
       "    </tr>\n",
       "    <tr>\n",
       "      <th>...</th>\n",
       "      <td>...</td>\n",
       "      <td>...</td>\n",
       "    </tr>\n",
       "    <tr>\n",
       "      <th>43571</th>\n",
       "      <td>217875</td>\n",
       "      <td>0</td>\n",
       "    </tr>\n",
       "    <tr>\n",
       "      <th>43572</th>\n",
       "      <td>217876</td>\n",
       "      <td>0</td>\n",
       "    </tr>\n",
       "    <tr>\n",
       "      <th>43573</th>\n",
       "      <td>217877</td>\n",
       "      <td>2</td>\n",
       "    </tr>\n",
       "    <tr>\n",
       "      <th>43574</th>\n",
       "      <td>217878</td>\n",
       "      <td>0</td>\n",
       "    </tr>\n",
       "    <tr>\n",
       "      <th>43575</th>\n",
       "      <td>217879</td>\n",
       "      <td>0</td>\n",
       "    </tr>\n",
       "  </tbody>\n",
       "</table>\n",
       "<p>43576 rows × 2 columns</p>\n",
       "</div>"
      ],
      "text/plain": [
       "        index  label\n",
       "0      174304      0\n",
       "1      174305      0\n",
       "2      174306      0\n",
       "3      174307      0\n",
       "4      174308      0\n",
       "...       ...    ...\n",
       "43571  217875      0\n",
       "43572  217876      0\n",
       "43573  217877      2\n",
       "43574  217878      0\n",
       "43575  217879      0\n",
       "\n",
       "[43576 rows x 2 columns]"
      ]
     },
     "execution_count": 75,
     "metadata": {},
     "output_type": "execute_result"
    }
   ],
   "source": [
    "sample_submission"
   ]
  },
  {
   "cell_type": "code",
   "execution_count": 76,
   "metadata": {},
   "outputs": [],
   "source": [
    "sample_submission.to_csv('baseline.csv', index=False)"
   ]
  },
  {
   "cell_type": "code",
   "execution_count": null,
   "metadata": {},
   "outputs": [],
   "source": []
  }
 ],
 "metadata": {
  "kernelspec": {
   "display_name": "base",
   "language": "python",
   "name": "python3"
  },
  "language_info": {
   "codemirror_mode": {
    "name": "ipython",
    "version": 3
   },
   "file_extension": ".py",
   "mimetype": "text/x-python",
   "name": "python",
   "nbconvert_exporter": "python",
   "pygments_lexer": "ipython3",
   "version": "3.9.15 | packaged by conda-forge | (main, Nov 22 2022, 08:52:10) \n[Clang 14.0.6 ]"
  },
  "orig_nbformat": 4,
  "vscode": {
   "interpreter": {
    "hash": "8f807fda92f20a86fe0cf9a7fb20f5cc46478756bf29c3db068708b68d71bcd3"
   }
  }
 },
 "nbformat": 4,
 "nbformat_minor": 2
}
